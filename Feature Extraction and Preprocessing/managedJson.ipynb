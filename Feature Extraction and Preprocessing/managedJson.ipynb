{
 "cells": [
  {
   "cell_type": "code",
   "execution_count": 1,
   "id": "f77476fc",
   "metadata": {},
   "outputs": [],
   "source": [
    "import numpy as np\n",
    "from glob import glob\n",
    "import shutil\n",
    "\n",
    "import os \n"
   ]
  },
  {
   "cell_type": "code",
   "execution_count": 2,
   "id": "b8ecee92",
   "metadata": {},
   "outputs": [
    {
     "ename": "FileNotFoundError",
     "evalue": "[Errno 2] No such file or directory: 'dataset_raw/smarthome_raw/new_pose/'",
     "output_type": "error",
     "traceback": [
      "\u001b[0;31m---------------------------------------------------------------------------\u001b[0m",
      "\u001b[0;31mFileNotFoundError\u001b[0m                         Traceback (most recent call last)",
      "Cell \u001b[0;32mIn [2], line 2\u001b[0m\n\u001b[1;32m      1\u001b[0m \u001b[39m##new_pose\u001b[39;00m\n\u001b[0;32m----> 2\u001b[0m json_list\u001b[39m=\u001b[39mos\u001b[39m.\u001b[39;49mlistdir(\u001b[39m'\u001b[39;49m\u001b[39mdataset_raw/smarthome_raw/new_pose/\u001b[39;49m\u001b[39m'\u001b[39;49m)\n",
      "\u001b[0;31mFileNotFoundError\u001b[0m: [Errno 2] No such file or directory: 'dataset_raw/smarthome_raw/new_pose/'"
     ]
    }
   ],
   "source": [
    "##new_pose\n",
    "json_list=os.listdir('dataset_raw/smarthome_raw/new_pose/')"
   ]
  },
  {
   "cell_type": "code",
   "execution_count": 3,
   "id": "7dd68672",
   "metadata": {},
   "outputs": [
    {
     "ename": "",
     "evalue": "",
     "output_type": "error",
     "traceback": [
      "\u001b[1;31mThe Kernel crashed while executing code in the the current cell or a previous cell. Please review the code in the cell(s) to identify a possible cause of the failure. Click <a href='https://aka.ms/vscodeJupyterKernelCrash'>here</a> for more info. View Jupyter <a href='command:jupyter.viewOutput'>log</a> for further details."
     ]
    }
   ],
   "source": [
    "## old_pose\n",
    "#json_list=os.listdir('dataset_raw/smarthome_raw/old_pose/')"
   ]
  },
  {
   "cell_type": "code",
   "execution_count": 8,
   "id": "4efd2e81",
   "metadata": {},
   "outputs": [],
   "source": [
    "class_list=list(map(lambda x:x.split('_')[0],json_list))"
   ]
  },
  {
   "cell_type": "code",
   "execution_count": 9,
   "id": "b56260ad",
   "metadata": {},
   "outputs": [],
   "source": [
    "class_names=np.unique(class_list)"
   ]
  },
  {
   "cell_type": "code",
   "execution_count": 10,
   "id": "f7f4f1c7",
   "metadata": {},
   "outputs": [],
   "source": [
    "#data_dire='datasets_features/smarthome/old_pose' ##old_pose\n",
    "data_dire='datasets_features/smarthome/new_pose' ##new_pose\n",
    "if not os.path.exists(data_dire):\n",
    "    os.makedirs(data_dire)"
   ]
  },
  {
   "cell_type": "code",
   "execution_count": 11,
   "id": "f18cacc3",
   "metadata": {},
   "outputs": [],
   "source": [
    "\n",
    "for class_name in class_names:\n",
    "    class_json_list=glob('json/{}*.json'.format(class_name))\n",
    "    for json in class_json_list:\n",
    "        json_name=json.split('/')[-1]\n",
    "        target_folder=os.path.join(data_dire,'Full',class_name)\n",
    "        if not os.path.exists(target_folder):\n",
    "            os.makedirs(target_folder)\n",
    "        target_json_dire=os.path.join(target_folder,json_name)\n",
    "        shutil.copy(json,target_json_dire)\n",
    "        "
   ]
  },
  {
   "cell_type": "code",
   "execution_count": 13,
   "id": "922071bf",
   "metadata": {},
   "outputs": [
    {
     "data": {
      "text/plain": [
       "'dataset_raw/smarthome_raw/smarthome_skeletons/Full/WatchTV'"
      ]
     },
     "execution_count": 13,
     "metadata": {},
     "output_type": "execute_result"
    }
   ],
   "source": [
    "target_folder"
   ]
  },
  {
   "cell_type": "code",
   "execution_count": null,
   "id": "9acfaed2",
   "metadata": {},
   "outputs": [],
   "source": []
  }
 ],
 "metadata": {
  "kernelspec": {
   "display_name": "Python 3.10.6 ('vision')",
   "language": "python",
   "name": "python3"
  },
  "language_info": {
   "codemirror_mode": {
    "name": "ipython",
    "version": 3
   },
   "file_extension": ".py",
   "mimetype": "text/x-python",
   "name": "python",
   "nbconvert_exporter": "python",
   "pygments_lexer": "ipython3",
   "version": "3.10.6"
  },
  "vscode": {
   "interpreter": {
    "hash": "85db18ce2fe3f95ddef0eb50df32b5323cfb3f595459ab1005c6551e46d04245"
   }
  }
 },
 "nbformat": 4,
 "nbformat_minor": 5
}
