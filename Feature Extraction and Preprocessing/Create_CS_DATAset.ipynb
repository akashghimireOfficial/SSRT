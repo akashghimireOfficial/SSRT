{
 "cells": [
  {
   "cell_type": "code",
   "execution_count": null,
   "metadata": {},
   "outputs": [],
   "source": [
    "from glob import glob\n",
    "import os \n",
    "from os.path import join,exists,basename\n",
    "from natsort import natsorted\n",
    "import shutil"
   ]
  },
  {
   "attachments": {},
   "cell_type": "markdown",
   "metadata": {},
   "source": [
    "For New Pose"
   ]
  },
  {
   "cell_type": "code",
   "execution_count": 2,
   "metadata": {},
   "outputs": [],
   "source": [
    "# paths={'full_dataset':join('datasets_features','smarthome','new_pose','Full'),\n",
    "# 'cs_train':join('datasets_features','smarthome','new_pose','CS','train'),\n",
    "# 'cs_test':join('datasets_features','smarthome','new_pose','CS','test'),\n",
    "# }\n"
   ]
  },
  {
   "attachments": {},
   "cell_type": "markdown",
   "metadata": {},
   "source": [
    "For Old Pose"
   ]
  },
  {
   "cell_type": "code",
   "execution_count": 3,
   "metadata": {},
   "outputs": [],
   "source": [
    "# paths={'full_dataset':join('datasets_features','smarthome','old_pose','Full'),\n",
    "# 'cs_train':join('datasets_features','smarthome','old_pose','CS','train'),\n",
    "# 'cs_test':join('datasets_features','smarthome','old_pose','CS','test'),\n",
    "# }\n"
   ]
  },
  {
   "cell_type": "markdown",
   "metadata": {},
   "source": [
    "For RGB DenseNet"
   ]
  },
  {
   "cell_type": "code",
   "execution_count": 2,
   "metadata": {},
   "outputs": [],
   "source": [
    "# paths={'full_dataset':join('datasets_features','smarthome','rgb','resnet50v2','Full'),\n",
    "# 'cs_train':join('datasets_features','smarthome','rgb','resnet50v2','CS','train'),\n",
    "# 'cs_test':join('datasets_features','smarthome','rgb','resnet50v2','CS','test'),\n",
    "# } \n"
   ]
  },
  {
   "cell_type": "code",
   "execution_count": null,
   "metadata": {},
   "outputs": [],
   "source": []
  },
  {
   "cell_type": "code",
   "execution_count": 3,
   "metadata": {},
   "outputs": [
    {
     "data": {
      "text/plain": [
       "{'full_dataset': 'datasets_features/smarthome/rgb/resnet50v2/Full',\n",
       " 'cs_train': 'datasets_features/smarthome/rgb/resnet50v2/CS/train',\n",
       " 'cs_test': 'datasets_features/smarthome/rgb/resnet50v2/CS/test'}"
      ]
     },
     "execution_count": 3,
     "metadata": {},
     "output_type": "execute_result"
    }
   ],
   "source": [
    "paths"
   ]
  },
  {
   "cell_type": "code",
   "execution_count": 4,
   "metadata": {},
   "outputs": [
    {
     "name": "stdout",
     "output_type": "stream",
     "text": [
      "Path:full_dataset already exists.\n"
     ]
    }
   ],
   "source": [
    "for key,value in paths.items():\n",
    "    if not exists(value):\n",
    "        os.makedirs(value)\n",
    "    else:\n",
    "        print('Path:{} already exists.'.format(key))"
   ]
  },
  {
   "cell_type": "code",
   "execution_count": 5,
   "metadata": {},
   "outputs": [],
   "source": [
    "### train and test id\n",
    "train_id=[3,4,6,7,9,12,13,15,17,19,25]\n",
    "\n",
    "test_id=[2,10,11,14,16,18,20]"
   ]
  },
  {
   "cell_type": "code",
   "execution_count": 6,
   "metadata": {},
   "outputs": [],
   "source": [
    "classNames=os.listdir(paths['full_dataset'])"
   ]
  },
  {
   "cell_type": "code",
   "execution_count": 7,
   "metadata": {},
   "outputs": [],
   "source": [
    "for className in classNames:\n",
    "    for id in train_id:\n",
    "        json_dires=glob(join(paths['full_dataset'],className)+'/{}_p{:02d}_*.npy'.format(className,id))\n",
    "        for json_dire in json_dires:\n",
    "            new_dire=join(paths['cs_train'],className)\n",
    "\n",
    "\n",
    "\n",
    "\n",
    "            if not exists(new_dire):\n",
    "                os.makedirs(new_dire)\n",
    "            target_path=join(new_dire,basename(json_dire))\n",
    "            shutil.copy(json_dire,target_path)"
   ]
  },
  {
   "cell_type": "code",
   "execution_count": 8,
   "metadata": {},
   "outputs": [
    {
     "ename": "",
     "evalue": "",
     "output_type": "error",
     "traceback": [
      "\u001b[1;31mThe Kernel crashed while executing code in the the current cell or a previous cell. Please review the code in the cell(s) to identify a possible cause of the failure. Click <a href='https://aka.ms/vscodeJupyterKernelCrash'>here</a> for more info. View Jupyter <a href='command:jupyter.viewOutput'>log</a> for further details."
     ]
    }
   ],
   "source": [
    "for className in classNames:\n",
    "    for id in test_id:\n",
    "        json_dires=glob(join(paths['full_dataset'],className)+'/{}_p{:02d}_*.npy'.format(className,id))\n",
    "        for json_dire in json_dires:\n",
    "            new_dire=join(paths['cs_test'],className)\n",
    "\n",
    "\n",
    "\n",
    "\n",
    "            if not exists(new_dire):\n",
    "                os.makedirs(new_dire)\n",
    "            target_path=join(new_dire,basename(json_dire))\n",
    "            shutil.copy(json_dire,target_path)"
   ]
  },
  {
   "cell_type": "code",
   "execution_count": 12,
   "metadata": {},
   "outputs": [],
   "source": [
    "json_dires=glob(join(paths['full_dataset'],classNames[0])+'/{}_p{:02d}_*.json'.format(classNames[0],id))"
   ]
  },
  {
   "cell_type": "code",
   "execution_count": 20,
   "metadata": {},
   "outputs": [
    {
     "data": {
      "text/plain": [
       "'datasets_features/smarthome/CS/train/WatchTV'"
      ]
     },
     "execution_count": 20,
     "metadata": {},
     "output_type": "execute_result"
    }
   ],
   "source": [
    "new_dire"
   ]
  },
  {
   "cell_type": "code",
   "execution_count": null,
   "metadata": {},
   "outputs": [],
   "source": []
  }
 ],
 "metadata": {
  "kernelspec": {
   "display_name": "vision",
   "language": "python",
   "name": "python3"
  },
  "language_info": {
   "codemirror_mode": {
    "name": "ipython",
    "version": 3
   },
   "file_extension": ".py",
   "mimetype": "text/x-python",
   "name": "python",
   "nbconvert_exporter": "python",
   "pygments_lexer": "ipython3",
   "version": "3.10.6 | packaged by conda-forge | (main, Aug 22 2022, 20:35:26) [GCC 10.4.0]"
  },
  "orig_nbformat": 4,
  "vscode": {
   "interpreter": {
    "hash": "85db18ce2fe3f95ddef0eb50df32b5323cfb3f595459ab1005c6551e46d04245"
   }
  }
 },
 "nbformat": 4,
 "nbformat_minor": 2
}
