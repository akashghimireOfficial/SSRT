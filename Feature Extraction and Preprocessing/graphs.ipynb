{
 "cells": [
  {
   "cell_type": "code",
   "execution_count": 1,
   "id": "ff7afeb9",
   "metadata": {},
   "outputs": [],
   "source": [
    "import numpy as np \n",
    "import pandas as pd \n",
    "import seaborn as sns \n",
    "import matplotlib.pyplot as plt \n",
    "from utils.path import paths\n",
    "from glob import glob\n",
    "import os \n",
    "from random import shuffle\n",
    "from os.path import join\n",
    "%matplotlib inline "
   ]
  },
  {
   "cell_type": "code",
   "execution_count": 3,
   "id": "efbd5b8b",
   "metadata": {},
   "outputs": [],
   "source": [
    "alphapose_info=pd.read_csv('alphapose.csv')"
   ]
  },
  {
   "cell_type": "code",
   "execution_count": 5,
   "id": "13a727cf",
   "metadata": {},
   "outputs": [
    {
     "data": {
      "text/html": [
       "<div>\n",
       "<style scoped>\n",
       "    .dataframe tbody tr th:only-of-type {\n",
       "        vertical-align: middle;\n",
       "    }\n",
       "\n",
       "    .dataframe tbody tr th {\n",
       "        vertical-align: top;\n",
       "    }\n",
       "\n",
       "    .dataframe thead th {\n",
       "        text-align: right;\n",
       "    }\n",
       "</style>\n",
       "<table border=\"1\" class=\"dataframe\">\n",
       "  <thead>\n",
       "    <tr style=\"text-align: right;\">\n",
       "      <th></th>\n",
       "      <th>Model</th>\n",
       "      <th>#Kps</th>\n",
       "      <th>fps</th>\n",
       "    </tr>\n",
       "  </thead>\n",
       "  <tbody>\n",
       "    <tr>\n",
       "      <th>0</th>\n",
       "      <td>Default</td>\n",
       "      <td>17</td>\n",
       "      <td>16.250</td>\n",
       "    </tr>\n",
       "    <tr>\n",
       "      <th>1</th>\n",
       "      <td>ResNet50</td>\n",
       "      <td>17</td>\n",
       "      <td>15.725</td>\n",
       "    </tr>\n",
       "    <tr>\n",
       "      <th>2</th>\n",
       "      <td>ResNet50-Unshuffle</td>\n",
       "      <td>17</td>\n",
       "      <td>14.650</td>\n",
       "    </tr>\n",
       "    <tr>\n",
       "      <th>3</th>\n",
       "      <td>HRNet-W32</td>\n",
       "      <td>17</td>\n",
       "      <td>16.150</td>\n",
       "    </tr>\n",
       "    <tr>\n",
       "      <th>4</th>\n",
       "      <td>ResNet50-dcn</td>\n",
       "      <td>17</td>\n",
       "      <td>15.525</td>\n",
       "    </tr>\n",
       "    <tr>\n",
       "      <th>5</th>\n",
       "      <td>ResNet152</td>\n",
       "      <td>17</td>\n",
       "      <td>13.350</td>\n",
       "    </tr>\n",
       "  </tbody>\n",
       "</table>\n",
       "</div>"
      ],
      "text/plain": [
       "                Model  #Kps     fps\n",
       "0             Default    17  16.250\n",
       "1            ResNet50    17  15.725\n",
       "2  ResNet50-Unshuffle    17  14.650\n",
       "3           HRNet-W32    17  16.150\n",
       "4        ResNet50-dcn    17  15.525\n",
       "5           ResNet152    17  13.350"
      ]
     },
     "execution_count": 5,
     "metadata": {},
     "output_type": "execute_result"
    }
   ],
   "source": [
    "alphapose_info"
   ]
  },
  {
   "cell_type": "code",
   "execution_count": 18,
   "id": "9915ca0c",
   "metadata": {},
   "outputs": [
    {
     "data": {
      "text/plain": [
       "Text(0, 0.5, '#fps')"
      ]
     },
     "execution_count": 18,
     "metadata": {},
     "output_type": "execute_result"
    },
    {
     "data": {
      "image/png": "[encoded data removed]",
      "text/plain": [
       "<Figure size 1440x1080 with 1 Axes>"
      ]
     },
     "metadata": {
      "needs_background": "light"
     },
     "output_type": "display_data"
    }
   ],
   "source": [
    "plt.figure(figsize=(20,15))\n",
    "barplot=sns.barplot(data=alphapose_info,x='Model',y='fps')\n",
    "plt.xlabel('Model',fontsize=22)\n",
    "plt.ylabel('#fps',fontsize=22)"
   ]
  },
  {
   "cell_type": "code",
   "execution_count": 19,
   "id": "d464cdf6",
   "metadata": {},
   "outputs": [],
   "source": [
    "fig=barplot.get_figure()"
   ]
  },
  {
   "cell_type": "code",
   "execution_count": 20,
   "id": "94a154c5",
   "metadata": {},
   "outputs": [],
   "source": [
    "fig.savefig('alphapose_fps.jpg')"
   ]
  },
  {
   "cell_type": "code",
   "execution_count": null,
   "id": "6e5b6b32",
   "metadata": {},
   "outputs": [],
   "source": []
  },
  {
   "cell_type": "code",
   "execution_count": 4,
   "id": "76e216ff",
   "metadata": {},
   "outputs": [],
   "source": [
    "## AIHUB\n",
    "openpose_aihub=join(paths['training_data'],'openpose','AIHUB')\n",
    "openpifaf_aihub=join(paths['training_data'],'openpifaf','AIHUB')\n",
    "movenet_aihub=join(paths['training_data'],'movenet','AIHUB')\n",
    "alphapose_aihub=join(paths['training_data'],'alphapose','AIHUB')"
   ]
  },
  {
   "cell_type": "code",
   "execution_count": 5,
   "id": "5cea9e58",
   "metadata": {},
   "outputs": [
    {
     "data": {
      "text/plain": [
       "['avg_conf.npy', 'missiing_points.npy']"
      ]
     },
     "execution_count": 5,
     "metadata": {},
     "output_type": "execute_result"
    }
   ],
   "source": [
    "os.listdir(alphapose_aihub)"
   ]
  },
  {
   "cell_type": "code",
   "execution_count": 6,
   "id": "17e22abb",
   "metadata": {},
   "outputs": [],
   "source": [
    "## missing_joing\n",
    "openpose_aihub_missing=np.load(openpose_aihub+'/missiing_points.npy')\n",
    "openpifaf_aihub_missing=np.load(openpifaf_aihub+'/missiing_points.npy')\n",
    "movenet_aihub_missing=np.load(movenet_aihub+'/missiing_points.npy')\n",
    "alphapose_aihub_missing=np.load(alphapose_aihub+'/missiing_points.npy')"
   ]
  },
  {
   "cell_type": "code",
   "execution_count": 7,
   "id": "89f20bc7",
   "metadata": {},
   "outputs": [
    {
     "data": {
      "text/plain": [
       "(1291,)"
      ]
     },
     "execution_count": 7,
     "metadata": {},
     "output_type": "execute_result"
    }
   ],
   "source": [
    "openpose_aihub_missing[:1291].shape"
   ]
  },
  {
   "cell_type": "code",
   "execution_count": 8,
   "id": "a709e60a",
   "metadata": {},
   "outputs": [
    {
     "data": {
      "text/plain": [
       "1291"
      ]
     },
     "execution_count": 8,
     "metadata": {},
     "output_type": "execute_result"
    }
   ],
   "source": [
    "len(alphapose_aihub_missing)"
   ]
  },
  {
   "cell_type": "code",
   "execution_count": 9,
   "id": "457140f5",
   "metadata": {},
   "outputs": [],
   "source": [
    "missing_point_eldersim={'openpose': openpose_aihub_missing[:1291],\n",
    "                       'openpifaf':openpifaf_aihub_missing[:1291],\n",
    "                       'movenet':movenet_aihub_missing[:1291],\n",
    "                       'alphapose':alphapose_aihub_missing}"
   ]
  },
  {
   "cell_type": "code",
   "execution_count": 10,
   "id": "cb14a434",
   "metadata": {},
   "outputs": [],
   "source": [
    "df_missing=pd.DataFrame(missing_point_eldersim)"
   ]
  },
  {
   "cell_type": "code",
   "execution_count": 11,
   "id": "41263c9a",
   "metadata": {},
   "outputs": [
    {
     "data": {
      "text/html": [
       "<div>\n",
       "<style scoped>\n",
       "    .dataframe tbody tr th:only-of-type {\n",
       "        vertical-align: middle;\n",
       "    }\n",
       "\n",
       "    .dataframe tbody tr th {\n",
       "        vertical-align: top;\n",
       "    }\n",
       "\n",
       "    .dataframe thead th {\n",
       "        text-align: right;\n",
       "    }\n",
       "</style>\n",
       "<table border=\"1\" class=\"dataframe\">\n",
       "  <thead>\n",
       "    <tr style=\"text-align: right;\">\n",
       "      <th></th>\n",
       "      <th>openpose</th>\n",
       "      <th>openpifaf</th>\n",
       "      <th>movenet</th>\n",
       "      <th>alphapose</th>\n",
       "    </tr>\n",
       "  </thead>\n",
       "  <tbody>\n",
       "    <tr>\n",
       "      <th>0</th>\n",
       "      <td>2.92</td>\n",
       "      <td>1.44</td>\n",
       "      <td>1.36</td>\n",
       "      <td>0.000000</td>\n",
       "    </tr>\n",
       "    <tr>\n",
       "      <th>1</th>\n",
       "      <td>0.80</td>\n",
       "      <td>15.68</td>\n",
       "      <td>4.76</td>\n",
       "      <td>0.000000</td>\n",
       "    </tr>\n",
       "    <tr>\n",
       "      <th>2</th>\n",
       "      <td>0.56</td>\n",
       "      <td>2.04</td>\n",
       "      <td>0.00</td>\n",
       "      <td>0.000000</td>\n",
       "    </tr>\n",
       "    <tr>\n",
       "      <th>3</th>\n",
       "      <td>1.84</td>\n",
       "      <td>2.12</td>\n",
       "      <td>0.00</td>\n",
       "      <td>0.000000</td>\n",
       "    </tr>\n",
       "    <tr>\n",
       "      <th>4</th>\n",
       "      <td>10.48</td>\n",
       "      <td>0.68</td>\n",
       "      <td>0.00</td>\n",
       "      <td>0.000000</td>\n",
       "    </tr>\n",
       "    <tr>\n",
       "      <th>...</th>\n",
       "      <td>...</td>\n",
       "      <td>...</td>\n",
       "      <td>...</td>\n",
       "      <td>...</td>\n",
       "    </tr>\n",
       "    <tr>\n",
       "      <th>1286</th>\n",
       "      <td>12.04</td>\n",
       "      <td>1.64</td>\n",
       "      <td>4.76</td>\n",
       "      <td>0.021277</td>\n",
       "    </tr>\n",
       "    <tr>\n",
       "      <th>1287</th>\n",
       "      <td>4.64</td>\n",
       "      <td>5.36</td>\n",
       "      <td>6.12</td>\n",
       "      <td>0.000000</td>\n",
       "    </tr>\n",
       "    <tr>\n",
       "      <th>1288</th>\n",
       "      <td>5.40</td>\n",
       "      <td>6.92</td>\n",
       "      <td>8.84</td>\n",
       "      <td>0.000000</td>\n",
       "    </tr>\n",
       "    <tr>\n",
       "      <th>1289</th>\n",
       "      <td>5.04</td>\n",
       "      <td>11.32</td>\n",
       "      <td>14.96</td>\n",
       "      <td>0.000000</td>\n",
       "    </tr>\n",
       "    <tr>\n",
       "      <th>1290</th>\n",
       "      <td>4.56</td>\n",
       "      <td>4.72</td>\n",
       "      <td>0.00</td>\n",
       "      <td>0.000000</td>\n",
       "    </tr>\n",
       "  </tbody>\n",
       "</table>\n",
       "<p>1291 rows × 4 columns</p>\n",
       "</div>"
      ],
      "text/plain": [
       "      openpose  openpifaf  movenet  alphapose\n",
       "0         2.92       1.44     1.36   0.000000\n",
       "1         0.80      15.68     4.76   0.000000\n",
       "2         0.56       2.04     0.00   0.000000\n",
       "3         1.84       2.12     0.00   0.000000\n",
       "4        10.48       0.68     0.00   0.000000\n",
       "...        ...        ...      ...        ...\n",
       "1286     12.04       1.64     4.76   0.021277\n",
       "1287      4.64       5.36     6.12   0.000000\n",
       "1288      5.40       6.92     8.84   0.000000\n",
       "1289      5.04      11.32    14.96   0.000000\n",
       "1290      4.56       4.72     0.00   0.000000\n",
       "\n",
       "[1291 rows x 4 columns]"
      ]
     },
     "execution_count": 11,
     "metadata": {},
     "output_type": "execute_result"
    }
   ],
   "source": [
    "df_missing"
   ]
  },
  {
   "cell_type": "code",
   "execution_count": 12,
   "id": "edeb165f",
   "metadata": {},
   "outputs": [
    {
     "data": {
      "text/plain": [
       "Text(0, 0.5, 'average_missing_keypoints_AIHUB')"
      ]
     },
     "execution_count": 12,
     "metadata": {},
     "output_type": "execute_result"
    },
    {
     "data": {
      "image/png": "[encoded data removed]",
      "text/plain": [
       "<Figure size 1440x1080 with 1 Axes>"
      ]
     },
     "metadata": {
      "needs_background": "light"
     },
     "output_type": "display_data"
    }
   ],
   "source": [
    "plt.figure(figsize=(20,15))\n",
    "sns.set(style=\"ticks\", palette=\"muted\", color_codes=True)\n",
    "sns.color_palette(\"coolwarm\", as_cmap=True)\n",
    "yticks=np.arange(0,18,0.5)\n",
    "sns_plot=sns.boxplot(data=df_missing,showmeans=True,meanprops={\"marker\":\"o\",\n",
    "                       \"markerfacecolor\":\"white\", \n",
    "                       \"markeredgecolor\":\"black\",\n",
    "                      \"markersize\":\"10\"})\n",
    "plt.yticks(yticks)\n",
    "plt.ylabel('average_missing_keypoints_AIHUB',fontsize=35)"
   ]
  },
  {
   "cell_type": "code",
   "execution_count": 13,
   "id": "3bfbd003",
   "metadata": {},
   "outputs": [],
   "source": [
    "fig=sns_plot.get_figure()\n",
    "fig.savefig('average_missing_point_AIHUB.jpg')"
   ]
  },
  {
   "cell_type": "code",
   "execution_count": 36,
   "id": "42559869",
   "metadata": {},
   "outputs": [],
   "source": [
    "openpose_aihub_avg=np.load(openpose_aihub+'/avg_conf.npy')\n",
    "openpifaf_aihub_avg=np.load(openpifaf_aihub+'/avg_conf.npy')\n",
    "movenet_aihub_avg=np.load(movenet_aihub+'/avg_conf.npy')\n",
    "alphapose_aihub_avg=np.load(alphapose_aihub+'/avg_conf.npy')"
   ]
  },
  {
   "cell_type": "code",
   "execution_count": 39,
   "id": "a0002e76",
   "metadata": {},
   "outputs": [],
   "source": [
    "\n",
    "openpose_avg=openpose_aihub_avg\n",
    "openpifaf_avg=openpifaf_aihub_avg\n",
    "movenet_avg=movenet_aihub_avg\n",
    "\n"
   ]
  },
  {
   "cell_type": "code",
   "execution_count": 42,
   "id": "22bcabce",
   "metadata": {},
   "outputs": [],
   "source": [
    "openpifaf_avg=random.shuffle(openpifaf_avg)"
   ]
  },
  {
   "cell_type": "code",
   "execution_count": 43,
   "id": "5c73035d",
   "metadata": {},
   "outputs": [],
   "source": [
    "openpifaf_avg"
   ]
  },
  {
   "cell_type": "code",
   "execution_count": 21,
   "id": "989e4faa",
   "metadata": {},
   "outputs": [
    {
     "data": {
      "text/plain": [
       "array([5, 6, 1])"
      ]
     },
     "execution_count": 21,
     "metadata": {},
     "output_type": "execute_result"
    }
   ],
   "source": [
    "arr"
   ]
  },
  {
   "cell_type": "code",
   "execution_count": null,
   "id": "f08e8442",
   "metadata": {},
   "outputs": [],
   "source": [
    "openpifaf_aihub_avg"
   ]
  },
  {
   "cell_type": "code",
   "execution_count": 37,
   "id": "d2144cb6",
   "metadata": {},
   "outputs": [],
   "source": [
    "avg_aihub={'openpose':openpifaf_aihub_avg,\n",
    "             'openpifaf':openpifaf_aihub_avg,\n",
    "             'movenet':movenet_aihub_avg,\n",
    "             'alphapose':alphapose_aihub_avg}\n",
    "df_avg_aihub=pd.DataFrame(avg_aihub)"
   ]
  },
  {
   "cell_type": "code",
   "execution_count": 38,
   "id": "2c31493b",
   "metadata": {},
   "outputs": [
    {
     "data": {
      "text/plain": [
       "Text(0, 0.5, 'average_confident_AIHUB')"
      ]
     },
     "execution_count": 38,
     "metadata": {},
     "output_type": "execute_result"
    },
    {
     "data": {
      "image/png": "[encoded data removed]",
      "text/plain": [
       "<Figure size 1440x1080 with 1 Axes>"
      ]
     },
     "metadata": {},
     "output_type": "display_data"
    }
   ],
   "source": [
    "plt.figure(figsize=(20,15))\n",
    "sns.set(style=\"ticks\", palette=\"muted\", color_codes=True)\n",
    "sns.color_palette(\"coolwarm\", as_cmap=True)\n",
    "\n",
    "sns_avg_aihub=sns.boxplot(data=df_avg_aihub,showmeans=True,meanprops={\"marker\":\"o\",\n",
    "                       \"markerfacecolor\":\"white\", \n",
    "                       \"markeredgecolor\":\"black\",\n",
    "                      \"markersize\":\"10\"})\n",
    "plt.yticks(np.arange(0,1,0.15))\n",
    "plt.ylabel('average_confident_AIHUB',fontsize=35)"
   ]
  },
  {
   "cell_type": "code",
   "execution_count": null,
   "id": "9b7bbd82",
   "metadata": {},
   "outputs": [],
   "source": [
    "fig=sns_avg_aihub.get_figure()\n",
    "fig.savefig('average_conf_AIHUB.jpg')"
   ]
  },
  {
   "cell_type": "code",
   "execution_count": null,
   "id": "32332dba",
   "metadata": {},
   "outputs": [],
   "source": []
  },
  {
   "cell_type": "code",
   "execution_count": null,
   "id": "cb9c93af",
   "metadata": {},
   "outputs": [],
   "source": []
  },
  {
   "cell_type": "code",
   "execution_count": null,
   "id": "88f2f6bd",
   "metadata": {},
   "outputs": [],
   "source": [
    "#os.listdir(openpifaf_aihub)\n",
    "np.load(openpifaf_aihub+'/y_test.npy').shape"
   ]
  },
  {
   "cell_type": "code",
   "execution_count": null,
   "id": "6fbf5372",
   "metadata": {},
   "outputs": [],
   "source": [
    "np.load(openpose_aihub+'/y_test.npy').shape"
   ]
  },
  {
   "cell_type": "code",
   "execution_count": null,
   "id": "5fb9d8f4",
   "metadata": {},
   "outputs": [],
   "source": [
    "np.load(movenet_aihub+'/y_test.npy').shape"
   ]
  },
  {
   "cell_type": "code",
   "execution_count": null,
   "id": "a321e313",
   "metadata": {},
   "outputs": [],
   "source": [
    "features,labels=np.load(movenet_aihub+'/features.npy'),np.load(movenet_aihub+'/labels.npy')"
   ]
  },
  {
   "cell_type": "code",
   "execution_count": null,
   "id": "84822b73",
   "metadata": {},
   "outputs": [],
   "source": [
    "\n",
    "from sklearn.model_selection import train_test_split\n",
    "X_train, X_test, y_train, y_test = train_test_split(features, labels, test_size=0.33, random_state=42)\n",
    "saved_dire=os.path.join(paths['training_data'],'movenet','AIHUB')\n",
    "if not os.path.exists(saved_dire):\n",
    "    os.makedirs(saved_dire)\n",
    "np.save(\"{}/X_train\".format(saved_dire),X_train)\n",
    "\n",
    "np.save(\"{}/X_test\".format(saved_dire),X_test)\n",
    "\n",
    "np.save(\"{}/y_train\".format(saved_dire),y_train)\n",
    "\n",
    "np.save(\"{}/y_test\".format(saved_dire),y_test)    "
   ]
  },
  {
   "cell_type": "code",
   "execution_count": null,
   "id": "cae20b9d",
   "metadata": {},
   "outputs": [],
   "source": []
  }
 ],
 "metadata": {
  "kernelspec": {
   "display_name": "vision",
   "language": "python",
   "name": "python3"
  },
  "language_info": {
   "codemirror_mode": {
    "name": "ipython",
    "version": 3
   },
   "file_extension": ".py",
   "mimetype": "text/x-python",
   "name": "python",
   "nbconvert_exporter": "python",
   "pygments_lexer": "ipython3",
   "version": "3.10.6"
  },
  "vscode": {
   "interpreter": {
    "hash": "85db18ce2fe3f95ddef0eb50df32b5323cfb3f595459ab1005c6551e46d04245"
   }
  }
 },
 "nbformat": 4,
 "nbformat_minor": 5
}
