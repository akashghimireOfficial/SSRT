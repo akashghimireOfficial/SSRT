{
 "cells": [
  {
   "cell_type": "code",
   "execution_count": 1,
   "metadata": {},
   "outputs": [],
   "source": [
    "import json\n",
    "import numpy as np\n",
    "import os \n",
    "from natsort import natsorted\n",
    "from os.path import join,basename\n",
    "from collections import Counter\n",
    "from glob import glob\n",
    "import pickle"
   ]
  },
  {
   "cell_type": "code",
   "execution_count": 2,
   "metadata": {},
   "outputs": [],
   "source": [
    "dires={'co':join('dataset_raw','smarthome_raw','alphapose','CD2'),\n",
    "'co_json':join('dataset_raw','smarthome_raw','alphapose','CD2','json'),\n",
    "'co_kp_pkl':join('dataset_raw','smarthome_raw','alphapose','CD2','kp_pkl'),\n",
    "'co_bbox_pkl':join('dataset_raw','smarthome_raw','alphapose','CD2','bbox_pkl')}"
   ]
  },
  {
   "cell_type": "code",
   "execution_count": 3,
   "metadata": {},
   "outputs": [],
   "source": [
    "co_classnames=natsorted(os.listdir(dires['co_json']))"
   ]
  },
  {
   "cell_type": "code",
   "execution_count": 4,
   "metadata": {},
   "outputs": [
    {
     "data": {
      "text/plain": [
       "['Drink.Fromcup', 'Readbook', 'Uselaptop', 'Usetelephone']"
      ]
     },
     "execution_count": 4,
     "metadata": {},
     "output_type": "execute_result"
    }
   ],
   "source": [
    "co_classnames"
   ]
  },
  {
   "cell_type": "code",
   "execution_count": 5,
   "metadata": {},
   "outputs": [],
   "source": [
    "def non_duplicated_img(json_data):\n",
    "    ## return non_duplicated_frames\n",
    "    image_id=[i['image_id'] for i in json_data]\n",
    "    counts=Counter(image_id)\n",
    "    frames_ids=[] ## Stire the non duplicated image id\n",
    "    for key,value in counts.items():\n",
    "\n",
    "        if value !=1:\n",
    "            continue\n",
    "\n",
    "        frames_ids.append(key)\n",
    "    \n",
    "    return frames_ids\n"
   ]
  },
  {
   "cell_type": "code",
   "execution_count": 6,
   "metadata": {},
   "outputs": [],
   "source": [
    "analyse={i:[] for i in co_classnames}"
   ]
  },
  {
   "cell_type": "code",
   "execution_count": 7,
   "metadata": {},
   "outputs": [],
   "source": [
    "seq_len=42"
   ]
  },
  {
   "cell_type": "code",
   "execution_count": 8,
   "metadata": {},
   "outputs": [
    {
     "ename": "",
     "evalue": "",
     "output_type": "error",
     "traceback": [
      "\u001b[1;31mThe Kernel crashed while executing code in the the current cell or a previous cell. Please review the code in the cell(s) to identify a possible cause of the failure. Click <a href='https://aka.ms/vscodeJupyterKernelCrash'>here</a> for more info. View Jupyter <a href='command:jupyter.viewOutput'>log</a> for further details."
     ]
    }
   ],
   "source": [
    "for classname in co_classnames:\n",
    "    json_dires=glob(join(dires['co_json'],classname)+'/*.json')\n",
    "    for json_dire in json_dires:\n",
    "        file_name=basename(json_dire)[:-5]\n",
    "        with open(json_dire,'r') as f:\n",
    "            json_data=json.load(f)\n",
    "        unique_imageid=non_duplicated_img(json_data)\n",
    "        filter_json_data=[i for i in json_data if i['image_id'] in unique_imageid]\n",
    "        img_bbxs={i['image_id']:i['box'] for i in filter_json_data}  \n",
    "        img_kps={i['image_id']:i['keypoints'] for i in filter_json_data}  \n",
    "\n",
    "        #analyse[classname].append(len(img_kps))\n",
    "        ## Saving in pkl format imag_id with bbox info\n",
    "        \n",
    "        target_pkl_bbox_folder=join(dires['co_bbox_pkl'],classname)\n",
    "        target_pkl_kp_folder=join(dires['co_kp_pkl'],classname)\n",
    "\n",
    "        if not os.path.exists(target_pkl_bbox_folder):\n",
    "            os.makedirs(target_pkl_bbox_folder)\n",
    "        \n",
    "        if not os.path.exists(target_pkl_kp_folder):\n",
    "            os.makedirs(target_pkl_kp_folder)\n",
    "\n",
    "        target_pkl_bbox_file=target_pkl_bbox_folder+'/'+file_name+'.pickle'\n",
    "        target_pkl_kp_file=target_pkl_kp_folder+'/'+file_name+'.pickle'\n",
    "\n",
    "        with open(target_pkl_bbox_file,'wb') as f:\n",
    "\n",
    "            pickle.dump(img_bbxs,f)\n",
    "\n",
    "        \n",
    "        if len(img_kps) >= seq_len:\n",
    "            analyse[classname].append(len(img_kps))\n",
    "\n",
    "\n",
    "            with open(target_pkl_kp_file,'wb') as f:\n",
    "\n",
    "                pickle.dump(img_kps,f)\n",
    "\n",
    "            \n",
    "        \n",
    "\n",
    "    \n",
    "        "
   ]
  },
  {
   "cell_type": "code",
   "execution_count": 9,
   "metadata": {},
   "outputs": [],
   "source": [
    "import seaborn as sns"
   ]
  },
  {
   "cell_type": "code",
   "execution_count": 10,
   "metadata": {},
   "outputs": [
    {
     "data": {
      "text/plain": [
       "<seaborn.axisgrid.FacetGrid at 0x7f7208beaad0>"
      ]
     },
     "execution_count": 10,
     "metadata": {},
     "output_type": "execute_result"
    },
    {
     "data": {
      "image/png": "[encoded data removed]",
      "text/plain": [
       "<Figure size 500x500 with 1 Axes>"
      ]
     },
     "metadata": {},
     "output_type": "display_data"
    }
   ],
   "source": [
    "sns.displot(analyse[co_classnames[-2]])"
   ]
  },
  {
   "cell_type": "code",
   "execution_count": null,
   "metadata": {},
   "outputs": [],
   "source": [
    "target_pkl_bbox_file"
   ]
  },
  {
   "cell_type": "code",
   "execution_count": 11,
   "metadata": {},
   "outputs": [
    {
     "data": {
      "text/plain": [
       "46"
      ]
     },
     "execution_count": 11,
     "metadata": {},
     "output_type": "execute_result"
    }
   ],
   "source": [
    "np.min(analyse[co_classnames[-2]])"
   ]
  },
  {
   "cell_type": "code",
   "execution_count": 14,
   "metadata": {},
   "outputs": [
    {
     "data": {
      "text/plain": [
       "[949,\n",
       " 199,\n",
       " 448,\n",
       " 198,\n",
       " 283,\n",
       " 224,\n",
       " 839,\n",
       " 1107,\n",
       " 335,\n",
       " 106,\n",
       " 519,\n",
       " 270,\n",
       " 223,\n",
       " 144,\n",
       " 139,\n",
       " 98,\n",
       " 229,\n",
       " 1366,\n",
       " 419,\n",
       " 564,\n",
       " 448,\n",
       " 574,\n",
       " 2279,\n",
       " 274,\n",
       " 1584,\n",
       " 1262,\n",
       " 1038,\n",
       " 577,\n",
       " 403,\n",
       " 771,\n",
       " 1014,\n",
       " 907,\n",
       " 1465,\n",
       " 1119,\n",
       " 59,\n",
       " 967,\n",
       " 2253,\n",
       " 2062,\n",
       " 2062,\n",
       " 1829,\n",
       " 861,\n",
       " 434,\n",
       " 431,\n",
       " 675,\n",
       " 1121,\n",
       " 1062,\n",
       " 2149,\n",
       " 2147,\n",
       " 1440,\n",
       " 1433,\n",
       " 1561,\n",
       " 2078,\n",
       " 2068,\n",
       " 990,\n",
       " 1553,\n",
       " 3062,\n",
       " 3041,\n",
       " 1709,\n",
       " 1629,\n",
       " 2195,\n",
       " 3150,\n",
       " 75,\n",
       " 797,\n",
       " 2529,\n",
       " 1501,\n",
       " 560,\n",
       " 1954,\n",
       " 554,\n",
       " 389,\n",
       " 1916,\n",
       " 1390,\n",
       " 777,\n",
       " 544,\n",
       " 1511,\n",
       " 916,\n",
       " 286,\n",
       " 1746,\n",
       " 824,\n",
       " 237,\n",
       " 618,\n",
       " 895,\n",
       " 640,\n",
       " 382,\n",
       " 1203,\n",
       " 266,\n",
       " 429,\n",
       " 791,\n",
       " 2158,\n",
       " 1382,\n",
       " 70,\n",
       " 832,\n",
       " 720,\n",
       " 910,\n",
       " 1322,\n",
       " 1807,\n",
       " 925,\n",
       " 492,\n",
       " 2220,\n",
       " 831,\n",
       " 921,\n",
       " 1837,\n",
       " 698,\n",
       " 545,\n",
       " 949,\n",
       " 118,\n",
       " 573,\n",
       " 732,\n",
       " 337,\n",
       " 788,\n",
       " 431,\n",
       " 508,\n",
       " 483,\n",
       " 704,\n",
       " 431,\n",
       " 537,\n",
       " 365,\n",
       " 1572,\n",
       " 94,\n",
       " 1310,\n",
       " 630,\n",
       " 1376,\n",
       " 1424,\n",
       " 1843,\n",
       " 82,\n",
       " 1956,\n",
       " 1960,\n",
       " 1282,\n",
       " 1292,\n",
       " 2451,\n",
       " 1544,\n",
       " 2101,\n",
       " 143,\n",
       " 370,\n",
       " 304,\n",
       " 237,\n",
       " 1283,\n",
       " 705,\n",
       " 1652,\n",
       " 184,\n",
       " 190,\n",
       " 919,\n",
       " 1238,\n",
       " 685,\n",
       " 732,\n",
       " 877,\n",
       " 436,\n",
       " 507,\n",
       " 282,\n",
       " 541,\n",
       " 516,\n",
       " 932,\n",
       " 1045,\n",
       " 476,\n",
       " 448,\n",
       " 479,\n",
       " 606,\n",
       " 507,\n",
       " 533,\n",
       " 586,\n",
       " 566,\n",
       " 552,\n",
       " 542,\n",
       " 435,\n",
       " 447,\n",
       " 461,\n",
       " 423,\n",
       " 417,\n",
       " 658,\n",
       " 339,\n",
       " 507,\n",
       " 483,\n",
       " 507,\n",
       " 607,\n",
       " 434,\n",
       " 722,\n",
       " 537,\n",
       " 468,\n",
       " 422,\n",
       " 1047,\n",
       " 540,\n",
       " 730,\n",
       " 161,\n",
       " 435,\n",
       " 1419,\n",
       " 991,\n",
       " 943,\n",
       " 615,\n",
       " 622,\n",
       " 860,\n",
       " 859,\n",
       " 907,\n",
       " 923,\n",
       " 497,\n",
       " 510,\n",
       " 1751,\n",
       " 405,\n",
       " 413,\n",
       " 393,\n",
       " 757,\n",
       " 933,\n",
       " 911,\n",
       " 433,\n",
       " 451,\n",
       " 733,\n",
       " 729,\n",
       " 918,\n",
       " 661,\n",
       " 784,\n",
       " 761,\n",
       " 759,\n",
       " 975,\n",
       " 1128,\n",
       " 1879,\n",
       " 1256,\n",
       " 2355,\n",
       " 894,\n",
       " 886,\n",
       " 991,\n",
       " 1551,\n",
       " 834,\n",
       " 467,\n",
       " 2790,\n",
       " 1408,\n",
       " 1408,\n",
       " 341,\n",
       " 879,\n",
       " 1948,\n",
       " 481,\n",
       " 136,\n",
       " 1672,\n",
       " 881,\n",
       " 1073,\n",
       " 1536,\n",
       " 1046,\n",
       " 2922,\n",
       " 46,\n",
       " 1145,\n",
       " 3033,\n",
       " 1221,\n",
       " 836,\n",
       " 734,\n",
       " 580,\n",
       " 511,\n",
       " 1281,\n",
       " 1010,\n",
       " 2407,\n",
       " 463,\n",
       " 2587,\n",
       " 2864,\n",
       " 1324,\n",
       " 2704,\n",
       " 2225,\n",
       " 2984,\n",
       " 3040,\n",
       " 2088,\n",
       " 2888,\n",
       " 2841,\n",
       " 1811,\n",
       " 3027,\n",
       " 2180,\n",
       " 2713,\n",
       " 1286,\n",
       " 1127,\n",
       " 854,\n",
       " 1224]"
      ]
     },
     "execution_count": 14,
     "metadata": {},
     "output_type": "execute_result"
    }
   ],
   "source": []
  },
  {
   "cell_type": "code",
   "execution_count": null,
   "metadata": {},
   "outputs": [],
   "source": [
    "filter_json_data[0]['keypoints']"
   ]
  },
  {
   "cell_type": "code",
   "execution_count": null,
   "metadata": {},
   "outputs": [],
   "source": [
    "def save_pkl()"
   ]
  },
  {
   "cell_type": "code",
   "execution_count": null,
   "metadata": {},
   "outputs": [],
   "source": []
  }
 ],
 "metadata": {
  "kernelspec": {
   "display_name": "vision",
   "language": "python",
   "name": "python3"
  },
  "language_info": {
   "codemirror_mode": {
    "name": "ipython",
    "version": 3
   },
   "file_extension": ".py",
   "mimetype": "text/x-python",
   "name": "python",
   "nbconvert_exporter": "python",
   "pygments_lexer": "ipython3",
   "version": "3.10.6"
  },
  "orig_nbformat": 4,
  "vscode": {
   "interpreter": {
    "hash": "85db18ce2fe3f95ddef0eb50df32b5323cfb3f595459ab1005c6551e46d04245"
   }
  }
 },
 "nbformat": 4,
 "nbformat_minor": 2
}
