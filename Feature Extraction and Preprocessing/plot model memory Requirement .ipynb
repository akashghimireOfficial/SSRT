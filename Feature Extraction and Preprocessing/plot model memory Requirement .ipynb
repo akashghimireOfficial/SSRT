{
 "cells": [
  {
   "cell_type": "code",
   "execution_count": 1,
   "id": "54927067",
   "metadata": {},
   "outputs": [],
   "source": [
    "import numpy as np \n",
    "import pandas as pd \n",
    "import seaborn as sns \n",
    "import matplotlib.pyplot as plt\n",
    "%matplotlib inline "
   ]
  },
  {
   "cell_type": "code",
   "execution_count": 4,
   "id": "5955d884",
   "metadata": {},
   "outputs": [],
   "source": [
    "lstm_model=pd.read_csv('exp/model memory requirement/lstm.csv')"
   ]
  },
  {
   "cell_type": "code",
   "execution_count": 36,
   "id": "17ebba32",
   "metadata": {},
   "outputs": [],
   "source": [
    "transformer_small=pd.read_csv('exp/model memory requirement/transformer_small.csv')\n",
    "transformer_large=pd.read_csv('exp/model memory requirement/transformer_large.csv')"
   ]
  },
  {
   "cell_type": "code",
   "execution_count": 37,
   "id": "a9f99c44",
   "metadata": {
    "scrolled": false
   },
   "outputs": [
    {
     "data": {
      "text/html": [
       "<div>\n",
       "<style scoped>\n",
       "    .dataframe tbody tr th:only-of-type {\n",
       "        vertical-align: middle;\n",
       "    }\n",
       "\n",
       "    .dataframe tbody tr th {\n",
       "        vertical-align: top;\n",
       "    }\n",
       "\n",
       "    .dataframe thead th {\n",
       "        text-align: right;\n",
       "    }\n",
       "</style>\n",
       "<table border=\"1\" class=\"dataframe\">\n",
       "  <thead>\n",
       "    <tr style=\"text-align: right;\">\n",
       "      <th></th>\n",
       "      <th>base model</th>\n",
       "      <th>Value</th>\n",
       "      <th>units</th>\n",
       "    </tr>\n",
       "  </thead>\n",
       "  <tbody>\n",
       "    <tr>\n",
       "      <th>0</th>\n",
       "      <td>No. of FLOPs</td>\n",
       "      <td>0.0004</td>\n",
       "      <td>MFLOPs</td>\n",
       "    </tr>\n",
       "    <tr>\n",
       "      <th>1</th>\n",
       "      <td>GPU Memory Requirement</td>\n",
       "      <td>0.2326</td>\n",
       "      <td>MB</td>\n",
       "    </tr>\n",
       "    <tr>\n",
       "      <th>2</th>\n",
       "      <td>Model Parameters</td>\n",
       "      <td>0.221</td>\n",
       "      <td>Million</td>\n",
       "    </tr>\n",
       "    <tr>\n",
       "      <th>3</th>\n",
       "      <td>average_latency</td>\n",
       "      <td>0.967147</td>\n",
       "      <td>ms</td>\n",
       "    </tr>\n",
       "    <tr>\n",
       "      <th>4</th>\n",
       "      <td>training_time</td>\n",
       "      <td>0.08</td>\n",
       "      <td>sec</td>\n",
       "    </tr>\n",
       "  </tbody>\n",
       "</table>\n",
       "</div>"
      ],
      "text/plain": [
       "               base model     Value     units\n",
       "0            No. of FLOPs    0.0004  MFLOPs  \n",
       "1  GPU Memory Requirement    0.2326  MB      \n",
       "2      Model Parameters    0.221     Million \n",
       "3         average_latency  0.967147        ms\n",
       "4           training_time      0.08       sec"
      ]
     },
     "execution_count": 37,
     "metadata": {},
     "output_type": "execute_result"
    }
   ],
   "source": [
    "transformer_small"
   ]
  },
  {
   "cell_type": "code",
   "execution_count": 38,
   "id": "2355ff98",
   "metadata": {},
   "outputs": [
    {
     "data": {
      "text/html": [
       "<div>\n",
       "<style scoped>\n",
       "    .dataframe tbody tr th:only-of-type {\n",
       "        vertical-align: middle;\n",
       "    }\n",
       "\n",
       "    .dataframe tbody tr th {\n",
       "        vertical-align: top;\n",
       "    }\n",
       "\n",
       "    .dataframe thead th {\n",
       "        text-align: right;\n",
       "    }\n",
       "</style>\n",
       "<table border=\"1\" class=\"dataframe\">\n",
       "  <thead>\n",
       "    <tr style=\"text-align: right;\">\n",
       "      <th></th>\n",
       "      <th>base model</th>\n",
       "      <th>Value</th>\n",
       "      <th>units</th>\n",
       "    </tr>\n",
       "  </thead>\n",
       "  <tbody>\n",
       "    <tr>\n",
       "      <th>0</th>\n",
       "      <td>No. of FLOPs</td>\n",
       "      <td>0.0010</td>\n",
       "      <td>MFLOPs</td>\n",
       "    </tr>\n",
       "    <tr>\n",
       "      <th>1</th>\n",
       "      <td>GPU Memory Requirement</td>\n",
       "      <td>2.6550</td>\n",
       "      <td>MB</td>\n",
       "    </tr>\n",
       "    <tr>\n",
       "      <th>2</th>\n",
       "      <td>Model Parameters</td>\n",
       "      <td>2.7298</td>\n",
       "      <td>Million</td>\n",
       "    </tr>\n",
       "    <tr>\n",
       "      <th>3</th>\n",
       "      <td>average_latency</td>\n",
       "      <td>1.4400</td>\n",
       "      <td>ms</td>\n",
       "    </tr>\n",
       "    <tr>\n",
       "      <th>4</th>\n",
       "      <td>training_time</td>\n",
       "      <td>0.2000</td>\n",
       "      <td>sec</td>\n",
       "    </tr>\n",
       "  </tbody>\n",
       "</table>\n",
       "</div>"
      ],
      "text/plain": [
       "               base model   Value     units\n",
       "0            No. of FLOPs  0.0010  MFLOPs  \n",
       "1  GPU Memory Requirement  2.6550  MB      \n",
       "2      Model Parameters    2.7298  Million \n",
       "3         average_latency  1.4400        ms\n",
       "4           training_time  0.2000       sec"
      ]
     },
     "execution_count": 38,
     "metadata": {},
     "output_type": "execute_result"
    }
   ],
   "source": [
    "transformer_large"
   ]
  },
  {
   "cell_type": "code",
   "execution_count": 7,
   "id": "cd9530eb",
   "metadata": {
    "scrolled": true
   },
   "outputs": [
    {
     "data": {
      "text/html": [
       "<div>\n",
       "<style scoped>\n",
       "    .dataframe tbody tr th:only-of-type {\n",
       "        vertical-align: middle;\n",
       "    }\n",
       "\n",
       "    .dataframe tbody tr th {\n",
       "        vertical-align: top;\n",
       "    }\n",
       "\n",
       "    .dataframe thead th {\n",
       "        text-align: right;\n",
       "    }\n",
       "</style>\n",
       "<table border=\"1\" class=\"dataframe\">\n",
       "  <thead>\n",
       "    <tr style=\"text-align: right;\">\n",
       "      <th></th>\n",
       "      <th>base model</th>\n",
       "      <th>Value</th>\n",
       "      <th>units</th>\n",
       "    </tr>\n",
       "  </thead>\n",
       "  <tbody>\n",
       "    <tr>\n",
       "      <th>0</th>\n",
       "      <td>No. of FLOPs</td>\n",
       "      <td>0.0003</td>\n",
       "      <td>MFLOPs</td>\n",
       "    </tr>\n",
       "    <tr>\n",
       "      <th>1</th>\n",
       "      <td>GPU Memory Requirement</td>\n",
       "      <td>0.0786</td>\n",
       "      <td>MB</td>\n",
       "    </tr>\n",
       "    <tr>\n",
       "      <th>2</th>\n",
       "      <td>Model Parameters</td>\n",
       "      <td>0.061</td>\n",
       "      <td>Million</td>\n",
       "    </tr>\n",
       "    <tr>\n",
       "      <th>3</th>\n",
       "      <td>average_latency</td>\n",
       "      <td>0.934</td>\n",
       "      <td>ms</td>\n",
       "    </tr>\n",
       "    <tr>\n",
       "      <th>4</th>\n",
       "      <td>training_time</td>\n",
       "      <td>0.15</td>\n",
       "      <td>sec</td>\n",
       "    </tr>\n",
       "  </tbody>\n",
       "</table>\n",
       "</div>"
      ],
      "text/plain": [
       "               base model      Value     units\n",
       "0            No. of FLOPs     0.0003  MFLOPs  \n",
       "1  GPU Memory Requirement     0.0786  MB      \n",
       "2      Model Parameters     0.061     Million \n",
       "3         average_latency      0.934        ms\n",
       "4           training_time       0.15       sec"
      ]
     },
     "execution_count": 7,
     "metadata": {},
     "output_type": "execute_result"
    }
   ],
   "source": [
    "lstm_model"
   ]
  },
  {
   "cell_type": "code",
   "execution_count": 8,
   "id": "17b4c0ad",
   "metadata": {},
   "outputs": [
    {
     "data": {
      "text/plain": [
       "0              No. of FLOPs\n",
       "1    GPU Memory Requirement\n",
       "2        Model Parameters  \n",
       "3           average_latency\n",
       "4             training_time\n",
       "Name: base model, dtype: object"
      ]
     },
     "execution_count": 8,
     "metadata": {},
     "output_type": "execute_result"
    }
   ],
   "source": [
    "lstm_model['base model']"
   ]
  },
  {
   "cell_type": "code",
   "execution_count": 39,
   "id": "7b6651a0",
   "metadata": {},
   "outputs": [],
   "source": [
    "## searbon model paramenter  vs latency \n",
    "x_para=np.array([0.061,0.221])\n",
    "model=np.array(['Lstm','Transformer-small','Transformer-large'])\n",
    "x_training=np.array([0.15,0.08])\n",
    "y=np.array([0.934,0.967147])"
   ]
  },
  {
   "cell_type": "code",
   "execution_count": 51,
   "id": "0cf3a4a9",
   "metadata": {},
   "outputs": [
    {
     "data": {
      "image/png": "[encoded data removed]",
      "text/plain": [
       "<Figure size 432x288 with 1 Axes>"
      ]
     },
     "metadata": {
      "needs_background": "light"
     },
     "output_type": "display_data"
    }
   ],
   "source": [
    "\n",
    "sns.scatterplot(x=x_training,y=y,size=x_para,sizes=(20,895),hue=model,legend=False)\n",
    "plt.xlabel('Training time per epoch in second',)\n",
    "plt.yticks(np.arange(0.9,1.6,0.1))\n",
    "plt.ylabel('Inference time is ms')\n",
    "plt.grid()"
   ]
  },
  {
   "cell_type": "code",
   "execution_count": 52,
   "id": "5d7d28bf",
   "metadata": {},
   "outputs": [
    {
     "data": {
      "text/plain": [
       "3.6229508196721314"
      ]
     },
     "execution_count": 52,
     "metadata": {},
     "output_type": "execute_result"
    }
   ],
   "source": [
    "0.221/0.061"
   ]
  },
  {
   "cell_type": "code",
   "execution_count": 53,
   "id": "44b5c4ea",
   "metadata": {},
   "outputs": [
    {
     "data": {
      "text/plain": [
       "144.8"
      ]
     },
     "execution_count": 53,
     "metadata": {},
     "output_type": "execute_result"
    }
   ],
   "source": [
    "40*3.62\n"
   ]
  },
  {
   "cell_type": "code",
   "execution_count": null,
   "id": "5bb1ad1a",
   "metadata": {},
   "outputs": [],
   "source": []
  }
 ],
 "metadata": {
  "kernelspec": {
   "display_name": "Python 3 (ipykernel)",
   "language": "python",
   "name": "python3"
  },
  "language_info": {
   "codemirror_mode": {
    "name": "ipython",
    "version": 3
   },
   "file_extension": ".py",
   "mimetype": "text/x-python",
   "name": "python",
   "nbconvert_exporter": "python",
   "pygments_lexer": "ipython3",
   "version": "3.9.12"
  }
 },
 "nbformat": 4,
 "nbformat_minor": 5
}
