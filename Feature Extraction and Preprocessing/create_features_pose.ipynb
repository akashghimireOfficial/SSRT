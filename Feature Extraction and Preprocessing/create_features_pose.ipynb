{
 "cells": [
  {
   "cell_type": "code",
   "execution_count": 1,
   "id": "5610c784",
   "metadata": {},
   "outputs": [],
   "source": [
    "import numpy as np\n",
    "#import tensorflow as tf\n",
    "from glob import glob\n",
    "import os\n",
    "\n",
    "from os.path import join,basename\n",
    "import json\n",
    "import random\n",
    "import pickle\n",
    "import cv2 as cv\n",
    "import pandas as pd\n",
    "from natsort import natsorted\n",
    "%matplotlib inline"
   ]
  },
  {
   "cell_type": "code",
   "execution_count": 2,
   "id": "04469e63",
   "metadata": {},
   "outputs": [],
   "source": [
    "random.seed(123)\n",
    "np.random.seed(123)"
   ]
  },
  {
   "cell_type": "code",
   "execution_count": 3,
   "id": "d246bf8b",
   "metadata": {},
   "outputs": [],
   "source": [
    "src_dires={'co':join('dataset_raw','smarthome_raw','alphapose','CO'),\n",
    "'co_json':join('dataset_raw','smarthome_raw','alphapose','CO','json'),\n",
    "'co_kp_pkl':join('dataset_raw','smarthome_raw','alphapose','CO','kp_pkl'),\n",
    "'co_bbox_pkl':join('dataset_raw','smarthome_raw','alphapose','CO','bbox_pkl')}"
   ]
  },
  {
   "cell_type": "code",
   "execution_count": 4,
   "id": "7679307a",
   "metadata": {},
   "outputs": [],
   "source": [
    "pose_target_dires={'co':join('datasets_features','smarthome','alphapose','CO'),\n",
    "'cd':join('datasets_features','smarthome','CD')\n",
    "}"
   ]
  },
  {
   "cell_type": "code",
   "execution_count": 5,
   "id": "56de42f3",
   "metadata": {},
   "outputs": [],
   "source": [
    "co_classnames=natsorted(os.listdir(src_dires['co_bbox_pkl']))"
   ]
  },
  {
   "cell_type": "code",
   "execution_count": 6,
   "id": "78dac347",
   "metadata": {},
   "outputs": [],
   "source": [
    "limit_coarse={'Drink':196,\n",
    "\n",
    "'Eat': 144,\n",
    "\n",
    "'Pour':91}"
   ]
  },
  {
   "cell_type": "code",
   "execution_count": 8,
   "id": "aa1af789",
   "metadata": {},
   "outputs": [],
   "source": [
    "seq_len=42"
   ]
  },
  {
   "attachments": {},
   "cell_type": "markdown",
   "id": "b40649d4",
   "metadata": {},
   "source": [
    "Scaling the Kps from -1 to 1"
   ]
  },
  {
   "cell_type": "code",
   "execution_count": 9,
   "id": "bde2d85f",
   "metadata": {},
   "outputs": [],
   "source": [
    "def get_scaled_kp(kp):\n",
    "    kp=np.array(kp).reshape(17,3)\n",
    "    kp=kp[:,:2]\n",
    "    df=pd.DataFrame(kp,columns=['X','Y'])\n",
    "    df=df.apply(lambda x: (x - x.min()) / (x.max() - x.min())*2-1)  \n",
    "    return np.array(df).reshape(34) \n",
    "\n",
    "    \n",
    "    \n",
    "         "
   ]
  },
  {
   "attachments": {},
   "cell_type": "markdown",
   "id": "c23e56ae",
   "metadata": {},
   "source": [
    "Continue from here evening"
   ]
  },
  {
   "cell_type": "code",
   "execution_count": 10,
   "id": "27b54433",
   "metadata": {},
   "outputs": [],
   "source": [
    "def get_kps_imgid(kp_pkl):\n",
    "   features=[0]*seq_len\n",
    "   selected_frames=[0]*seq_len\n",
    "   with open(kp_pkl,'rb') as f:\n",
    "      kp_infos=pickle.load(f)\n",
    "\n",
    "   kps=list(kp_infos.values())\n",
    "   img_ids=list(kp_infos.keys())\n",
    "\n",
    "   \n",
    "\n",
    "\n",
    "   total_frames=len(kps)\n",
    "\n",
    "   skip_frames=total_frames//seq_len\n",
    " \n",
    "\n",
    "   \n",
    "\n",
    "   if skip_frames==0:\n",
    "      padd_arr=np.zeros(34,dtype=np.float64)\n",
    "      \n",
    "      for i in range(seq_len):\n",
    "\n",
    "         if i < total_frames:\n",
    "\n",
    "            scaled_kp=get_scaled_kp(kps[i])\n",
    "\n",
    "            features[i]=scaled_kp\n",
    "            selected_frames[i]=img_ids[i]\n",
    "\n",
    "         elif (i >=total_frames) and (i < seq_len):\n",
    "\n",
    "            features[i]=padd_arr\n",
    "            selected_frames[i]='None'\n",
    "         \n",
    "      features=np.array(features)\n",
    "      return (selected_frames,features)\n",
    "\n",
    "   elif skip_frames==1:\n",
    "\n",
    "         selected_index=sorted(random.sample(range(total_frames),seq_len))\n",
    "\n",
    "         features=np.array([get_scaled_kp(kps[i]) for i in selected_index])\n",
    "\n",
    "         selected_frames=np.array([img_ids[i] for i in selected_index])\n",
    "\n",
    "         return (selected_frames,features)\n",
    "\n",
    "   else :\n",
    "         \n",
    "\n",
    "         selected_index=list(range(0,total_frames,skip_frames))\n",
    "         if len(selected_index)>seq_len:\n",
    "            np.random.shuffle(selected_index)\n",
    "            \n",
    "            selected_index=selected_index[:seq_len]\n",
    "            selected_index=sorted(selected_index)\n",
    "\n",
    "            features=np.array([get_scaled_kp(kps[i]) for i in selected_index])\n",
    "            selected_frames=np.array([img_ids[i] for i in selected_index])\n",
    "            return (selected_frames,features)\n",
    "         \n",
    "         elif len(selected_index)==seq_len:\n",
    "\n",
    "            features=np.array([get_scaled_kp(kps[i]) for i in selected_index])\n",
    "            selected_frames=np.array([img_ids[i] for i in selected_index])\n",
    "            return (selected_frames,features)\n",
    "\n",
    "\n",
    "\n",
    "\n",
    "\n",
    "     \n",
    "\n",
    "\n",
    "    "
   ]
  },
  {
   "cell_type": "code",
   "execution_count": null,
   "id": "dc5b1ccf",
   "metadata": {},
   "outputs": [],
   "source": []
  },
  {
   "cell_type": "code",
   "execution_count": 11,
   "id": "c367c3a4",
   "metadata": {},
   "outputs": [
    {
     "ename": "",
     "evalue": "",
     "output_type": "error",
     "traceback": [
      "\u001b[1;31mThe Kernel crashed while executing code in the the current cell or a previous cell. Please review the code in the cell(s) to identify a possible cause of the failure. Click <a href='https://aka.ms/vscodeJupyterKernelCrash'>here</a> for more info. View Jupyter <a href='command:jupyter.viewOutput'>log</a> for further details."
     ]
    }
   ],
   "source": [
    "features=[]\n",
    "labels=[]\n",
    "for idx,classname in enumerate(co_classnames):\n",
    "    \n",
    "    coarse_label=classname.split('.')[0]\n",
    "    kps_dires=glob(join(src_dires['co_kp_pkl'],classname)+'/*.pickle')\n",
    "    random.shuffle(kps_dires)\n",
    "    limit=limit_coarse[coarse_label]\n",
    "    kps_dires=kps_dires[:limit]\n",
    "\n",
    "    total_samples=len(kps_dires)\n",
    "    train_len=np.ceil(0.6*total_samples)\n",
    "    val_len=np.ceil(0.20*total_samples)\n",
    "    test_len=total_samples-train_len-val_len\n",
    "\n",
    "    for idx,kp_dire in enumerate(kps_dires):\n",
    "        filename=basename(kp_dire)[:-7]\n",
    "        frame_id,feature=get_kps_imgid(kp_dire)\n",
    "\n",
    "        features.append(feature)\n",
    "        labels.append(idx)\n",
    "\n",
    "        if idx <= train_len:\n",
    "\n",
    "            saved_imgid_folder_dire=join(pose_target_dires['co'],'img_id','train',classname)\n",
    "\n",
    "            saved_kps_folder_dire=join(pose_target_dires['co'],'kps','train',classname)\n",
    "\n",
    "        elif idx >train_len and idx <=(train_len+val_len):\n",
    "\n",
    "            saved_imgid_folder_dire=join(pose_target_dires['co'],'img_id','val',classname)\n",
    "            saved_kps_folder_dire=join(pose_target_dires['co'],'kps','val',classname)\n",
    "\n",
    "        else:\n",
    "\n",
    "            saved_imgid_folder_dire=join(pose_target_dires['co'],'img_id','test',classname)\n",
    "            saved_kps_folder_dire=join(pose_target_dires['co'],'kps','test',classname)\n",
    "\n",
    "            \n",
    "\n",
    "\n",
    "\n",
    "        if not os.path.exists(saved_imgid_folder_dire):\n",
    "            os.makedirs(saved_imgid_folder_dire)\n",
    "\n",
    "        if not os.path.exists(saved_kps_folder_dire):\n",
    "            os.makedirs(saved_kps_folder_dire)\n",
    "\n",
    "\n",
    "        saved_imgid_file_dire=saved_imgid_folder_dire+'/{}.npy'.format(filename)\n",
    "\n",
    "        saved_kps_file_dire=saved_kps_folder_dire+'/{}.npy'.format(filename)\n",
    "\n",
    "        np.save(saved_imgid_file_dire,frame_id)\n",
    "\n",
    "        np.save(saved_kps_file_dire,feature)\n",
    "\n",
    "\n",
    "    \n",
    "features=np.array(features)\n",
    "labels=np.array(labels)\n",
    "\n",
    "\n",
    "\n",
    "         \n",
    "    "
   ]
  },
  {
   "cell_type": "code",
   "execution_count": 12,
   "id": "ec807ae8",
   "metadata": {},
   "outputs": [
    {
     "data": {
      "text/plain": [
       "(918, 25, 34)"
      ]
     },
     "execution_count": 12,
     "metadata": {},
     "output_type": "execute_result"
    }
   ],
   "source": [
    "features.shape"
   ]
  },
  {
   "cell_type": "code",
   "execution_count": 12,
   "id": "ccfb3246",
   "metadata": {},
   "outputs": [],
   "source": [
    "from sklearn.model_selection import train_test_split\n",
    "\n"
   ]
  },
  {
   "cell_type": "code",
   "execution_count": 13,
   "id": "757a37b5",
   "metadata": {},
   "outputs": [
    {
     "ename": "ValueError",
     "evalue": "The test_size = 156 should be greater or equal to the number of classes = 208",
     "output_type": "error",
     "traceback": [
      "\u001b[0;31m---------------------------------------------------------------------------\u001b[0m",
      "\u001b[0;31mValueError\u001b[0m                                Traceback (most recent call last)",
      "Cell \u001b[0;32mIn [13], line 1\u001b[0m\n\u001b[0;32m----> 1\u001b[0m train_features, test_features, train_labels, test_labels\u001b[39m=\u001b[39mtrain_test_split(features, labels, test_size\u001b[39m=\u001b[39;49m\u001b[39m0.25\u001b[39;49m, random_state\u001b[39m=\u001b[39;49m\u001b[39m101\u001b[39;49m,stratify\u001b[39m=\u001b[39;49mlabels)\n",
      "File \u001b[0;32m~/anaconda3/envs/vision/lib/python3.10/site-packages/sklearn/model_selection/_split.py:2469\u001b[0m, in \u001b[0;36mtrain_test_split\u001b[0;34m(test_size, train_size, random_state, shuffle, stratify, *arrays)\u001b[0m\n\u001b[1;32m   2465\u001b[0m         CVClass \u001b[39m=\u001b[39m ShuffleSplit\n\u001b[1;32m   2467\u001b[0m     cv \u001b[39m=\u001b[39m CVClass(test_size\u001b[39m=\u001b[39mn_test, train_size\u001b[39m=\u001b[39mn_train, random_state\u001b[39m=\u001b[39mrandom_state)\n\u001b[0;32m-> 2469\u001b[0m     train, test \u001b[39m=\u001b[39m \u001b[39mnext\u001b[39;49m(cv\u001b[39m.\u001b[39;49msplit(X\u001b[39m=\u001b[39;49marrays[\u001b[39m0\u001b[39;49m], y\u001b[39m=\u001b[39;49mstratify))\n\u001b[1;32m   2471\u001b[0m \u001b[39mreturn\u001b[39;00m \u001b[39mlist\u001b[39m(\n\u001b[1;32m   2472\u001b[0m     chain\u001b[39m.\u001b[39mfrom_iterable(\n\u001b[1;32m   2473\u001b[0m         (_safe_indexing(a, train), _safe_indexing(a, test)) \u001b[39mfor\u001b[39;00m a \u001b[39min\u001b[39;00m arrays\n\u001b[1;32m   2474\u001b[0m     )\n\u001b[1;32m   2475\u001b[0m )\n",
      "File \u001b[0;32m~/anaconda3/envs/vision/lib/python3.10/site-packages/sklearn/model_selection/_split.py:1622\u001b[0m, in \u001b[0;36mBaseShuffleSplit.split\u001b[0;34m(self, X, y, groups)\u001b[0m\n\u001b[1;32m   1592\u001b[0m \u001b[39m\"\"\"Generate indices to split data into training and test set.\u001b[39;00m\n\u001b[1;32m   1593\u001b[0m \n\u001b[1;32m   1594\u001b[0m \u001b[39mParameters\u001b[39;00m\n\u001b[0;32m   (...)\u001b[0m\n\u001b[1;32m   1619\u001b[0m \u001b[39mto an integer.\u001b[39;00m\n\u001b[1;32m   1620\u001b[0m \u001b[39m\"\"\"\u001b[39;00m\n\u001b[1;32m   1621\u001b[0m X, y, groups \u001b[39m=\u001b[39m indexable(X, y, groups)\n\u001b[0;32m-> 1622\u001b[0m \u001b[39mfor\u001b[39;00m train, test \u001b[39min\u001b[39;00m \u001b[39mself\u001b[39m\u001b[39m.\u001b[39m_iter_indices(X, y, groups):\n\u001b[1;32m   1623\u001b[0m     \u001b[39myield\u001b[39;00m train, test\n",
      "File \u001b[0;32m~/anaconda3/envs/vision/lib/python3.10/site-packages/sklearn/model_selection/_split.py:1981\u001b[0m, in \u001b[0;36mStratifiedShuffleSplit._iter_indices\u001b[0;34m(self, X, y, groups)\u001b[0m\n\u001b[1;32m   1976\u001b[0m     \u001b[39mraise\u001b[39;00m \u001b[39mValueError\u001b[39;00m(\n\u001b[1;32m   1977\u001b[0m         \u001b[39m\"\u001b[39m\u001b[39mThe train_size = \u001b[39m\u001b[39m%d\u001b[39;00m\u001b[39m should be greater or \u001b[39m\u001b[39m\"\u001b[39m\n\u001b[1;32m   1978\u001b[0m         \u001b[39m\"\u001b[39m\u001b[39mequal to the number of classes = \u001b[39m\u001b[39m%d\u001b[39;00m\u001b[39m\"\u001b[39m \u001b[39m%\u001b[39m (n_train, n_classes)\n\u001b[1;32m   1979\u001b[0m     )\n\u001b[1;32m   1980\u001b[0m \u001b[39mif\u001b[39;00m n_test \u001b[39m<\u001b[39m n_classes:\n\u001b[0;32m-> 1981\u001b[0m     \u001b[39mraise\u001b[39;00m \u001b[39mValueError\u001b[39;00m(\n\u001b[1;32m   1982\u001b[0m         \u001b[39m\"\u001b[39m\u001b[39mThe test_size = \u001b[39m\u001b[39m%d\u001b[39;00m\u001b[39m should be greater or \u001b[39m\u001b[39m\"\u001b[39m\n\u001b[1;32m   1983\u001b[0m         \u001b[39m\"\u001b[39m\u001b[39mequal to the number of classes = \u001b[39m\u001b[39m%d\u001b[39;00m\u001b[39m\"\u001b[39m \u001b[39m%\u001b[39m (n_test, n_classes)\n\u001b[1;32m   1984\u001b[0m     )\n\u001b[1;32m   1986\u001b[0m \u001b[39m# Find the sorted list of instances for each class:\u001b[39;00m\n\u001b[1;32m   1987\u001b[0m \u001b[39m# (np.unique above performs a sort, so code is O(n logn) already)\u001b[39;00m\n\u001b[1;32m   1988\u001b[0m class_indices \u001b[39m=\u001b[39m np\u001b[39m.\u001b[39msplit(\n\u001b[1;32m   1989\u001b[0m     np\u001b[39m.\u001b[39margsort(y_indices, kind\u001b[39m=\u001b[39m\u001b[39m\"\u001b[39m\u001b[39mmergesort\u001b[39m\u001b[39m\"\u001b[39m), np\u001b[39m.\u001b[39mcumsum(class_counts)[:\u001b[39m-\u001b[39m\u001b[39m1\u001b[39m]\n\u001b[1;32m   1990\u001b[0m )\n",
      "\u001b[0;31mValueError\u001b[0m: The test_size = 156 should be greater or equal to the number of classes = 208"
     ]
    }
   ],
   "source": [
    "train_features, test_features, train_labels, test_labels=train_test_split(features, labels, test_size=0.25, random_state=101,stratify=labels)"
   ]
  },
  {
   "cell_type": "code",
   "execution_count": 14,
   "id": "146a95b9",
   "metadata": {},
   "outputs": [],
   "source": [
    "\n",
    "saved_dires_train=join(pose_target_dires['co'],'features','train')\n",
    "if not os.path.exists(saved_dires_train):\n",
    "    os.makedirs(saved_dires_train)\n",
    "\n",
    "saved_dires_test=join(pose_target_dires['co'],'features','test')\n",
    "if not os.path.exists(saved_dires_test):\n",
    "    os.makedirs(saved_dires_test)"
   ]
  },
  {
   "cell_type": "markdown",
   "id": "4f772b1d",
   "metadata": {},
   "source": []
  },
  {
   "cell_type": "code",
   "execution_count": 15,
   "id": "9fe9afe4",
   "metadata": {},
   "outputs": [
    {
     "ename": "",
     "evalue": "",
     "output_type": "error",
     "traceback": [
      "\u001b[1;31mThe Kernel crashed while executing code in the the current cell or a previous cell. Please review the code in the cell(s) to identify a possible cause of the failure. Click <a href='https://aka.ms/vscodeJupyterKernelCrash'>here</a> for more info. View Jupyter <a href='command:jupyter.viewOutput'>log</a> for further details."
     ]
    }
   ],
   "source": [
    "np.save(join(saved_dires_train,'features.npy'),train_features)\n",
    "np.save(join(saved_dires_train,'labels.npy'),train_labels)\n",
    "\n",
    "np.save(join(saved_dires_test,'features.npy'),test_features)\n",
    "np.save(join(saved_dires_test,'labels.npy'),test_labels)"
   ]
  },
  {
   "cell_type": "code",
   "execution_count": 53,
   "id": "d74d69f9",
   "metadata": {},
   "outputs": [],
   "source": [
    "labels=np.load(join(saved_dires,'labels.npy'))"
   ]
  },
  {
   "cell_type": "code",
   "execution_count": 9,
   "id": "801df7b9",
   "metadata": {},
   "outputs": [
    {
     "data": {
      "text/plain": [
       "array([ 0,  1,  2,  3,  4,  5,  6,  7,  8,  9, 10, 11, 12, 13, 14, 15, 16,\n",
       "       17, 18])"
      ]
     },
     "execution_count": 9,
     "metadata": {},
     "output_type": "execute_result"
    }
   ],
   "source": [
    "np.unique(labels)"
   ]
  },
  {
   "cell_type": "code",
   "execution_count": 9,
   "id": "213dc201",
   "metadata": {},
   "outputs": [],
   "source": [
    "x_train=np.load(join(saved_dires_test,'features.npy'))"
   ]
  },
  {
   "cell_type": "code",
   "execution_count": 10,
   "id": "20bd3517",
   "metadata": {},
   "outputs": [
    {
     "data": {
      "text/plain": [
       "(474, 32, 34)"
      ]
     },
     "execution_count": 10,
     "metadata": {},
     "output_type": "execute_result"
    },
    {
     "ename": "",
     "evalue": "",
     "output_type": "error",
     "traceback": [
      "\u001b[1;31mThe Kernel crashed while executing code in the the current cell or a previous cell. Please review the code in the cell(s) to identify a possible cause of the failure. Click <a href='https://aka.ms/vscodeJupyterKernelCrash'>here</a> for more info. View Jupyter <a href='command:jupyter.viewOutput'>log</a> for further details."
     ]
    }
   ],
   "source": [
    "x_train.shape"
   ]
  },
  {
   "cell_type": "code",
   "execution_count": 7,
   "id": "b58d4cbf",
   "metadata": {},
   "outputs": [],
   "source": [
    "classNames=os.listdir(paths['cs_train'])"
   ]
  },
  {
   "cell_type": "code",
   "execution_count": null,
   "id": "d1e89e52",
   "metadata": {},
   "outputs": [],
   "source": []
  },
  {
   "cell_type": "code",
   "execution_count": null,
   "id": "00f553c0",
   "metadata": {},
   "outputs": [],
   "source": []
  },
  {
   "cell_type": "code",
   "execution_count": null,
   "id": "04066d78",
   "metadata": {},
   "outputs": [],
   "source": []
  },
  {
   "cell_type": "code",
   "execution_count": 53,
   "id": "1609ce86",
   "metadata": {},
   "outputs": [],
   "source": [
    "test_dires=glob(join(paths['cs_train'],classNames[0])+'/*.json')"
   ]
  },
  {
   "cell_type": "code",
   "execution_count": null,
   "id": "1f20ea0b",
   "metadata": {},
   "outputs": [],
   "source": [
    "test_dires"
   ]
  },
  {
   "cell_type": "code",
   "execution_count": 54,
   "id": "91174ed4",
   "metadata": {},
   "outputs": [],
   "source": [
    "a=features_extraction(test_dires[0])"
   ]
  },
  {
   "cell_type": "code",
   "execution_count": 57,
   "id": "08f901b7",
   "metadata": {},
   "outputs": [
    {
     "data": {
      "text/plain": [
       "[0,\n",
       " 0,\n",
       " 0,\n",
       " 0,\n",
       " 0,\n",
       " 0,\n",
       " 0,\n",
       " 0,\n",
       " 0,\n",
       " 0,\n",
       " 0,\n",
       " 0,\n",
       " 0,\n",
       " 0,\n",
       " 0,\n",
       " 0,\n",
       " 0,\n",
       " 0,\n",
       " 0,\n",
       " 0,\n",
       " 0,\n",
       " 0,\n",
       " 0,\n",
       " 0,\n",
       " 0,\n",
       " 0,\n",
       " 0,\n",
       " 0,\n",
       " 0,\n",
       " 0,\n",
       " 0,\n",
       " 0,\n",
       " 0,\n",
       " 0,\n",
       " 0,\n",
       " 0,\n",
       " 0,\n",
       " 0,\n",
       " 0,\n",
       " 0,\n",
       " 0,\n",
       " 0,\n",
       " 0,\n",
       " 0,\n",
       " 0,\n",
       " 0,\n",
       " 0,\n",
       " 0,\n",
       " 0,\n",
       " 0,\n",
       " 0,\n",
       " 0,\n",
       " 0,\n",
       " 0,\n",
       " 0,\n",
       " 0,\n",
       " 0,\n",
       " 0,\n",
       " 0,\n",
       " 0,\n",
       " 0,\n",
       " 0,\n",
       " 0,\n",
       " 0]"
      ]
     },
     "execution_count": 57,
     "metadata": {},
     "output_type": "execute_result"
    }
   ],
   "source": [
    "a"
   ]
  },
  {
   "cell_type": "code",
   "execution_count": 19,
   "id": "fbaf6c93",
   "metadata": {},
   "outputs": [
    {
     "name": "stdout",
     "output_type": "stream",
     "text": [
      "2\n",
      "2\n"
     ]
    },
    {
     "ename": "IndexError",
     "evalue": "list index out of range",
     "output_type": "error",
     "traceback": [
      "\u001b[0;31m---------------------------------------------------------------------------\u001b[0m",
      "\u001b[0;31mIndexError\u001b[0m                                Traceback (most recent call last)",
      "Cell \u001b[0;32mIn [19], line 51\u001b[0m\n\u001b[1;32m     48\u001b[0m     selected_frame\u001b[39m=\u001b[39mselected_frame[:seq_len]\n\u001b[1;32m     49\u001b[0m     selected_frame\u001b[39m=\u001b[39m\u001b[39msorted\u001b[39m(selected_frame)\n\u001b[0;32m---> 51\u001b[0m f\u001b[39m=\u001b[39mnp\u001b[39m.\u001b[39marray([data[\u001b[39m'\u001b[39m\u001b[39mframes\u001b[39m\u001b[39m'\u001b[39m][i][\u001b[39m0\u001b[39m][\u001b[39m'\u001b[39m\u001b[39mpose3d\u001b[39m\u001b[39m'\u001b[39m] \u001b[39mfor\u001b[39;00m i \u001b[39min\u001b[39;00m selected_frame])\n",
      "Cell \u001b[0;32mIn [19], line 51\u001b[0m, in \u001b[0;36m<listcomp>\u001b[0;34m(.0)\u001b[0m\n\u001b[1;32m     48\u001b[0m     selected_frame\u001b[39m=\u001b[39mselected_frame[:seq_len]\n\u001b[1;32m     49\u001b[0m     selected_frame\u001b[39m=\u001b[39m\u001b[39msorted\u001b[39m(selected_frame)\n\u001b[0;32m---> 51\u001b[0m f\u001b[39m=\u001b[39mnp\u001b[39m.\u001b[39marray([data[\u001b[39m'\u001b[39;49m\u001b[39mframes\u001b[39;49m\u001b[39m'\u001b[39;49m][i][\u001b[39m0\u001b[39;49m][\u001b[39m'\u001b[39m\u001b[39mpose3d\u001b[39m\u001b[39m'\u001b[39m] \u001b[39mfor\u001b[39;00m i \u001b[39min\u001b[39;00m selected_frame])\n",
      "\u001b[0;31mIndexError\u001b[0m: list index out of range"
     ]
    }
   ],
   "source": [
    "for json_dire in test_dires:\n",
    "    features=[0]*seq_len\n",
    "    with open(json_dire) as f:\n",
    "        data=json.load(f)\n",
    "    total_frames=len(data['frames'])\n",
    "    skip_frames=total_frames//seq_len\n",
    "\n",
    "    #print(skip_frames)\n",
    "\n",
    "    if skip_frames==0:\n",
    "\n",
    "        print(0)\n",
    "\n",
    "        padd_arr=np.zeros(39,dtype=np.float64)\n",
    "\n",
    "        for i in range(seq_len):\n",
    "\n",
    "            if i < seq_len:\n",
    "\n",
    "                features[i]=data['frames'][i][0]['pose3d']\n",
    "\n",
    "            if (i >= seq_len) and (i < total_frames):\n",
    "\n",
    "                features[i]=padd_arr\n",
    "            \n",
    "            #return features\n",
    "\n",
    "\n",
    "    elif skip_frames==1:\n",
    "\n",
    "        print(1)\n",
    "\n",
    "        selected_frame=sorted(random.sample(range(total_frames),seq_len))\n",
    "\n",
    "        features=np.array([data['frames'][i][0]['pose3d'] for i in selected_frame])\n",
    "\n",
    "        #return features\n",
    "\n",
    "\n",
    "    else :\n",
    "\n",
    "        print(2)\n",
    "\n",
    "        selected_frame=[i for i in range(0,total_frames,skip_frames)]\n",
    "        if len(selected_frame)>seq_len:\n",
    "            np.random.shuffle(selected_frame)\n",
    "            \n",
    "            selected_frame=selected_frame[:seq_len]\n",
    "            selected_frame=sorted(selected_frame)\n",
    "\n",
    "        f=np.array([data['frames'][i][0]['pose3d'] for i in selected_frame])\n",
    "        \n",
    "        #return features\n",
    "\n",
    "\n",
    "\n",
    "        \n",
    "\n",
    "\n",
    "   \n",
    "    "
   ]
  },
  {
   "cell_type": "code",
   "execution_count": 25,
   "id": "309bfd2d",
   "metadata": {},
   "outputs": [
    {
     "data": {
      "text/plain": [
       "[0,\n",
       " 11,\n",
       " 22,\n",
       " 33,\n",
       " 44,\n",
       " 55,\n",
       " 66,\n",
       " 77,\n",
       " 110,\n",
       " 121,\n",
       " 132,\n",
       " 143,\n",
       " 154,\n",
       " 165,\n",
       " 176,\n",
       " 187,\n",
       " 198,\n",
       " 209,\n",
       " 220,\n",
       " 231,\n",
       " 242,\n",
       " 253,\n",
       " 264,\n",
       " 275,\n",
       " 286,\n",
       " 297,\n",
       " 308,\n",
       " 319,\n",
       " 330,\n",
       " 341,\n",
       " 352,\n",
       " 363,\n",
       " 374,\n",
       " 385,\n",
       " 396,\n",
       " 407,\n",
       " 418,\n",
       " 429,\n",
       " 440,\n",
       " 451,\n",
       " 462,\n",
       " 473,\n",
       " 484,\n",
       " 495,\n",
       " 506,\n",
       " 517,\n",
       " 528,\n",
       " 539,\n",
       " 550,\n",
       " 561,\n",
       " 572,\n",
       " 583,\n",
       " 594,\n",
       " 605,\n",
       " 616,\n",
       " 627,\n",
       " 638,\n",
       " 649,\n",
       " 660,\n",
       " 671,\n",
       " 682,\n",
       " 693,\n",
       " 704,\n",
       " 715]"
      ]
     },
     "execution_count": 25,
     "metadata": {},
     "output_type": "execute_result"
    }
   ],
   "source": [
    "selected_frame"
   ]
  },
  {
   "cell_type": "code",
   "execution_count": 40,
   "id": "94bf8cd1",
   "metadata": {},
   "outputs": [
    {
     "name": "stdout",
     "output_type": "stream",
     "text": [
      "660\n"
     ]
    }
   ],
   "source": [
    "for i in  selected_frame:\n",
    "        #print(i)\n",
    "\n",
    "        try:\n",
    "                data['frames'][i][0]['pose3d']\n",
    "        except:\n",
    "                print(i)"
   ]
  },
  {
   "cell_type": "code",
   "execution_count": 43,
   "id": "378ff6e2",
   "metadata": {},
   "outputs": [
    {
     "data": {
      "text/plain": [
       "0"
      ]
     },
     "execution_count": 43,
     "metadata": {},
     "output_type": "execute_result"
    }
   ],
   "source": [
    "len(data['frames'][660])"
   ]
  },
  {
   "cell_type": "code",
   "execution_count": 46,
   "id": "076a0d72",
   "metadata": {},
   "outputs": [],
   "source": []
  },
  {
   "cell_type": "code",
   "execution_count": 47,
   "id": "6770044b",
   "metadata": {},
   "outputs": [
    {
     "data": {
      "text/plain": [
       "709"
      ]
     },
     "execution_count": 47,
     "metadata": {},
     "output_type": "execute_result"
    }
   ],
   "source": [
    "len(data['frames'])"
   ]
  },
  {
   "cell_type": "code",
   "execution_count": null,
   "id": "026c322d",
   "metadata": {},
   "outputs": [],
   "source": []
  }
 ],
 "metadata": {
  "kernelspec": {
   "display_name": "Python 3.10.6 ('vision')",
   "language": "python",
   "name": "python3"
  },
  "language_info": {
   "codemirror_mode": {
    "name": "ipython",
    "version": 3
   },
   "file_extension": ".py",
   "mimetype": "text/x-python",
   "name": "python",
   "nbconvert_exporter": "python",
   "pygments_lexer": "ipython3",
   "version": "3.10.6"
  },
  "vscode": {
   "interpreter": {
    "hash": "85db18ce2fe3f95ddef0eb50df32b5323cfb3f595459ab1005c6551e46d04245"
   }
  }
 },
 "nbformat": 4,
 "nbformat_minor": 5
}
