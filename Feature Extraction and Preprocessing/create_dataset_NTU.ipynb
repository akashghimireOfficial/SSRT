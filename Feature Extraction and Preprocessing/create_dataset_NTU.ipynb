{
 "cells": [
  {
   "cell_type": "code",
   "execution_count": 32,
   "metadata": {},
   "outputs": [],
   "source": [
    "import h5py\n",
    "import numpy as np\n",
    "import os\n",
    "from os.path import join,basename,exists"
   ]
  },
  {
   "cell_type": "code",
   "execution_count": 54,
   "metadata": {},
   "outputs": [],
   "source": [
    "dire={'ntu60':'NTU60/CS',\n",
    "'CS_train':'NTU60/CS/train',\n",
    "'CS_valid':'NTU60/CS/valid',\n",
    "'CS_test':'NTU60/CS/test',\n",
    "'CV_train':'NTU60/CV/train',\n",
    "'CV_valid':'NTU60/CV/valid',\n",
    "'CV_test':'NTU60/CV/test'}"
   ]
  },
  {
   "cell_type": "code",
   "execution_count": 6,
   "metadata": {},
   "outputs": [
    {
     "ename": "TypeError",
     "evalue": "'ItemsViewHDF5' object is not subscriptable",
     "output_type": "error",
     "traceback": [
      "\u001b[0;31m---------------------------------------------------------------------------\u001b[0m",
      "\u001b[0;31mTypeError\u001b[0m                                 Traceback (most recent call last)",
      "Cell \u001b[0;32mIn [6], line 1\u001b[0m\n\u001b[0;32m----> 1\u001b[0m f\u001b[39m.\u001b[39;49mitems()[\u001b[39m'\u001b[39;49m\u001b[39mtest_x\u001b[39;49m\u001b[39m'\u001b[39;49m]\n",
      "\u001b[0;31mTypeError\u001b[0m: 'ItemsViewHDF5' object is not subscriptable"
     ]
    }
   ],
   "source": [
    "test_x"
   ]
  },
  {
   "cell_type": "code",
   "execution_count": 11,
   "metadata": {},
   "outputs": [],
   "source": [
    "test_x=np.array(f['test_x'])"
   ]
  },
  {
   "cell_type": "code",
   "execution_count": 18,
   "metadata": {},
   "outputs": [],
   "source": [
    "test_y=np.array(f['test_y'])"
   ]
  },
  {
   "cell_type": "code",
   "execution_count": 45,
   "metadata": {},
   "outputs": [],
   "source": [
    "x=np.array(f['x'])"
   ]
  },
  {
   "cell_type": "code",
   "execution_count": 52,
   "metadata": {},
   "outputs": [
    {
     "data": {
      "text/plain": [
       "array([[[-0.01804789, -0.23662376,  0.06045389, ...,  0.        ,\n",
       "          0.        ,  0.        ],\n",
       "        [-0.017052  , -0.23697808,  0.05951405, ...,  0.        ,\n",
       "          0.        ,  0.        ],\n",
       "        [-0.01520713, -0.23696548,  0.06094193, ...,  0.        ,\n",
       "          0.        ,  0.        ],\n",
       "        ...,\n",
       "        [ 0.        ,  0.        ,  0.        , ...,  0.        ,\n",
       "          0.        ,  0.        ],\n",
       "        [ 0.        ,  0.        ,  0.        , ...,  0.        ,\n",
       "          0.        ,  0.        ],\n",
       "        [ 0.        ,  0.        ,  0.        , ...,  0.        ,\n",
       "          0.        ,  0.        ]],\n",
       "\n",
       "       [[-0.00246349, -0.28693068,  0.03021693, ...,  0.        ,\n",
       "          0.        ,  0.        ],\n",
       "        [-0.0029307 , -0.28731257,  0.0295341 , ...,  0.        ,\n",
       "          0.        ,  0.        ],\n",
       "        [-0.0036972 , -0.28759825,  0.02876997, ...,  0.        ,\n",
       "          0.        ,  0.        ],\n",
       "        ...,\n",
       "        [ 0.        ,  0.        ,  0.        , ...,  0.        ,\n",
       "          0.        ,  0.        ],\n",
       "        [ 0.        ,  0.        ,  0.        , ...,  0.        ,\n",
       "          0.        ,  0.        ],\n",
       "        [ 0.        ,  0.        ,  0.        , ...,  0.        ,\n",
       "          0.        ,  0.        ]],\n",
       "\n",
       "       [[ 0.0062604 , -0.2919712 ,  0.05353498, ...,  0.        ,\n",
       "          0.        ,  0.        ],\n",
       "        [ 0.0063619 , -0.2920959 ,  0.05374193, ...,  0.        ,\n",
       "          0.        ,  0.        ],\n",
       "        [ 0.00627109, -0.2924493 ,  0.05418968, ...,  0.        ,\n",
       "          0.        ,  0.        ],\n",
       "        ...,\n",
       "        [ 0.        ,  0.        ,  0.        , ...,  0.        ,\n",
       "          0.        ,  0.        ],\n",
       "        [ 0.        ,  0.        ,  0.        , ...,  0.        ,\n",
       "          0.        ,  0.        ],\n",
       "        [ 0.        ,  0.        ,  0.        , ...,  0.        ,\n",
       "          0.        ,  0.        ]],\n",
       "\n",
       "       ...,\n",
       "\n",
       "       [[ 0.08954522, -0.16808558,  0.0617609 , ...,  0.        ,\n",
       "          0.        ,  0.        ],\n",
       "        [ 0.08180031, -0.17276467,  0.05526876, ...,  0.        ,\n",
       "          0.        ,  0.        ],\n",
       "        [ 0.07303721, -0.18340127,  0.03929281, ...,  0.        ,\n",
       "          0.        ,  0.        ],\n",
       "        ...,\n",
       "        [ 0.        ,  0.        ,  0.        , ...,  0.        ,\n",
       "          0.        ,  0.        ],\n",
       "        [ 0.        ,  0.        ,  0.        , ...,  0.        ,\n",
       "          0.        ,  0.        ],\n",
       "        [ 0.        ,  0.        ,  0.        , ...,  0.        ,\n",
       "          0.        ,  0.        ]],\n",
       "\n",
       "       [[-0.019537  , -0.25327492,  0.0665803 , ...,  0.        ,\n",
       "          0.        ,  0.        ],\n",
       "        [-0.02011728, -0.25194585,  0.06330919, ...,  0.        ,\n",
       "          0.        ,  0.        ],\n",
       "        [-0.02745709, -0.24803941,  0.0569272 , ...,  0.        ,\n",
       "          0.        ,  0.        ],\n",
       "        ...,\n",
       "        [ 0.        ,  0.        ,  0.        , ...,  0.        ,\n",
       "          0.        ,  0.        ],\n",
       "        [ 0.        ,  0.        ,  0.        , ...,  0.        ,\n",
       "          0.        ,  0.        ],\n",
       "        [ 0.        ,  0.        ,  0.        , ...,  0.        ,\n",
       "          0.        ,  0.        ]],\n",
       "\n",
       "       [[ 0.00772601, -0.27562732,  0.05442405, ...,  0.        ,\n",
       "          0.        ,  0.        ],\n",
       "        [ 0.00722352, -0.2757008 ,  0.05325103, ...,  0.        ,\n",
       "          0.        ,  0.        ],\n",
       "        [ 0.0048469 , -0.2784064 ,  0.05189204, ...,  0.        ,\n",
       "          0.        ,  0.        ],\n",
       "        ...,\n",
       "        [ 0.        ,  0.        ,  0.        , ...,  0.        ,\n",
       "          0.        ,  0.        ],\n",
       "        [ 0.        ,  0.        ,  0.        , ...,  0.        ,\n",
       "          0.        ,  0.        ],\n",
       "        [ 0.        ,  0.        ,  0.        , ...,  0.        ,\n",
       "          0.        ,  0.        ]]], dtype=float32)"
      ]
     },
     "execution_count": 52,
     "metadata": {},
     "output_type": "execute_result"
    }
   ],
   "source": []
  },
  {
   "cell_type": "code",
   "execution_count": 48,
   "metadata": {},
   "outputs": [
    {
     "data": {
      "text/plain": [
       "array([[-0.0206176 , -0.2864349 ,  0.06118798, ...,  0.        ,\n",
       "         0.        ,  0.        ],\n",
       "       [-0.0205638 , -0.28641188,  0.0612998 , ...,  0.        ,\n",
       "         0.        ,  0.        ],\n",
       "       [-0.0203249 , -0.286428  ,  0.06114602, ...,  0.        ,\n",
       "         0.        ,  0.        ],\n",
       "       ...,\n",
       "       [ 0.        ,  0.        ,  0.        , ...,  0.        ,\n",
       "         0.        ,  0.        ],\n",
       "       [ 0.        ,  0.        ,  0.        , ...,  0.        ,\n",
       "         0.        ,  0.        ],\n",
       "       [ 0.        ,  0.        ,  0.        , ...,  0.        ,\n",
       "         0.        ,  0.        ]], dtype=float32)"
      ]
     },
     "execution_count": 48,
     "metadata": {},
     "output_type": "execute_result"
    }
   ],
   "source": [
    "test_x[:,i]"
   ]
  },
  {
   "cell_type": "code",
   "execution_count": 51,
   "metadata": {},
   "outputs": [],
   "source": [
    "ok=np.nonzero(test_x)"
   ]
  },
  {
   "cell_type": "code",
   "execution_count": 22,
   "metadata": {},
   "outputs": [],
   "source": [
    "test_y_class=np.argmax(test_y,axis=1)"
   ]
  },
  {
   "cell_type": "code",
   "execution_count": 23,
   "metadata": {},
   "outputs": [
    {
     "data": {
      "text/plain": [
       "True"
      ]
     },
     "execution_count": 23,
     "metadata": {},
     "output_type": "execute_result"
    }
   ],
   "source": [
    "len(test_y_class)==test_x.shape[0]"
   ]
  },
  {
   "cell_type": "code",
   "execution_count": 24,
   "metadata": {},
   "outputs": [
    {
     "data": {
      "text/plain": [
       "16487"
      ]
     },
     "execution_count": 24,
     "metadata": {},
     "output_type": "execute_result"
    }
   ],
   "source": [
    "len(test_y_class)"
   ]
  },
  {
   "cell_type": "code",
   "execution_count": 31,
   "metadata": {},
   "outputs": [],
   "source": [
    "dire={'ntu60':'NTU60/CS',\n",
    "'CS_train':'NTU60/CS/train',\n",
    "'CS_test':'NTU60/CS/test',\n",
    "'CV_train':'NTU60/CV/train',\n",
    "'CV_test':'NTU60/CV/test'}"
   ]
  },
  {
   "cell_type": "code",
   "execution_count": 33,
   "metadata": {},
   "outputs": [],
   "source": [
    "for value in dire.values():\n",
    "    if not exists(value):\n",
    "        os.makedirs(value)"
   ]
  }
 ],
 "metadata": {
  "kernelspec": {
   "display_name": "Python 3.10.6 ('vision')",
   "language": "python",
   "name": "python3"
  },
  "language_info": {
   "codemirror_mode": {
    "name": "ipython",
    "version": 3
   },
   "file_extension": ".py",
   "mimetype": "text/x-python",
   "name": "python",
   "nbconvert_exporter": "python",
   "pygments_lexer": "ipython3",
   "version": "3.10.6 | packaged by conda-forge | (main, Aug 22 2022, 20:35:26) [GCC 10.4.0]"
  },
  "orig_nbformat": 4,
  "vscode": {
   "interpreter": {
    "hash": "85db18ce2fe3f95ddef0eb50df32b5323cfb3f595459ab1005c6551e46d04245"
   }
  }
 },
 "nbformat": 4,
 "nbformat_minor": 2
}
