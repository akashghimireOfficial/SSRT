{
 "cells": [
  {
   "cell_type": "code",
   "execution_count": 16,
   "metadata": {},
   "outputs": [],
   "source": [
    "import numpy as np\n",
    "import tensorflow as tf\n",
    "import cv2 as cv\n",
    "import os \n",
    "import random\n",
    "from os.path import join,exists,basename\n",
    "from glob import glob\n",
    "from natsort import natsorted\n",
    "from tensorflow.keras.utils import to_categorical"
   ]
  },
  {
   "cell_type": "code",
   "execution_count": 11,
   "metadata": {},
   "outputs": [],
   "source": [
    "\n",
    "pose_path='../features/smarthome/skeleton/alphapose/CD3/test'"
   ]
  },
  {
   "cell_type": "code",
   "execution_count": 12,
   "metadata": {},
   "outputs": [],
   "source": [
    "classnames=os.listdir(pose_path)"
   ]
  },
  {
   "cell_type": "code",
   "execution_count": 8,
   "metadata": {},
   "outputs": [
    {
     "data": {
      "text/plain": [
       "['Drink.Fromcup', 'Readbook', 'Uselaptop', 'Usetelephone']"
      ]
     },
     "execution_count": 8,
     "metadata": {},
     "output_type": "execute_result"
    }
   ],
   "source": [
    "classnames"
   ]
  },
  {
   "cell_type": "code",
   "execution_count": 13,
   "metadata": {},
   "outputs": [],
   "source": [
    "# npy_files=natsorted(glob(rgb_path+'/**/*.npy'))\n",
    "# pose_files=natsorted(glob(pose_path+'/**/*.npy'))\n",
    "\n",
    "#rgb_files=natsorted(glob(rgb_path+'/**/*.npy'))\n",
    "pose_files=natsorted(glob(pose_path+'/**/*.npy'))\n",
    "\n"
   ]
  },
  {
   "cell_type": "code",
   "execution_count": 18,
   "metadata": {},
   "outputs": [],
   "source": [
    "a=pose_files[0]"
   ]
  },
  {
   "cell_type": "code",
   "execution_count": 15,
   "metadata": {},
   "outputs": [],
   "source": [
    "class_dict={'A004':'Drink.Fromcup','A032':'Readbook','A035':'Usetelephone','A037':'Uselaptop'}"
   ]
  },
  {
   "cell_type": "code",
   "execution_count": 22,
   "metadata": {},
   "outputs": [
    {
     "data": {
      "text/plain": [
       "'Drink.Fromcup'"
      ]
     },
     "execution_count": 22,
     "metadata": {},
     "output_type": "execute_result"
    }
   ],
   "source": [
    "class_dict[basename(a).split('_')[0]]"
   ]
  },
  {
   "cell_type": "code",
   "execution_count": 10,
   "metadata": {},
   "outputs": [
    {
     "data": {
      "text/plain": [
       "'Drink.Frombottle/Drink.Frombottle_p02_r02_v12_c02.npy'"
      ]
     },
     "execution_count": 10,
     "metadata": {},
     "output_type": "execute_result"
    }
   ],
   "source": [
    "'/'.join(pose_files[0].split('/')[-2:])"
   ]
  },
  {
   "cell_type": "code",
   "execution_count": 23,
   "metadata": {},
   "outputs": [],
   "source": [
    "class PoseGenerator_CD:\n",
    "\n",
    "    def __init__(self,pose_path,training=True):\n",
    "\n",
    "       \n",
    "\n",
    "        self.pose_path=pose_path\n",
    "        \n",
    "        self.training=training\n",
    "        \n",
    "        self.class_dict={'A004':'Drink.Fromcup','A032':'Readbook','A035':'Usetelephone','A037':'Uselaptop'}\n",
    "        self.classnames=natsorted(os.listdir(self.pose_path))\n",
    "        self.num_class=len(self.classnames)\n",
    "        \n",
    "\n",
    "    \n",
    "    def get_label(self,npz_file):\n",
    "        # classname=os.path.basename(npz_file).split('_')[0]\n",
    "        classname=self.class_dict[os.path.basename(npz_file).split('_')[0]]\n",
    "        return self.classnames.index(classname)\n",
    "\n",
    "    def load_npy(self,npy_file):\n",
    "        features=np.load(npy_file)\n",
    "        return features\n",
    "\n",
    "    \n",
    "    def __call__(self):\n",
    "\n",
    "        \n",
    "        pose_npy_list=natsorted(glob(self.pose_path+'/**/*.npy'))\n",
    "\n",
    "        \n",
    "        \n",
    "\n",
    "        if self.training:\n",
    "            random.shuffle(pose_npy_list)\n",
    "\n",
    "        for pose_npy_file in pose_npy_list:\n",
    "            \n",
    "            poses=self.load_npy(pose_npy_file)\n",
    "\n",
    "            \n",
    "            label=self.get_label(pose_npy_file)\n",
    "\n",
    "            # feat_dict=self.combine_inputs(pose_feature,rgb_imgs,label)\n",
    "\n",
    "            yield poses,to_categorical(label,num_classes=self.num_class)"
   ]
  },
  {
   "cell_type": "code",
   "execution_count": 24,
   "metadata": {},
   "outputs": [
    {
     "name": "stderr",
     "output_type": "stream",
     "text": [
      "2023-02-19 10:53:35.058513: I tensorflow/compiler/xla/stream_executor/cuda/cuda_gpu_executor.cc:981] successful NUMA node read from SysFS had negative value (-1), but there must be at least one NUMA node, so returning NUMA node zero\n",
      "2023-02-19 10:53:35.083877: I tensorflow/compiler/xla/stream_executor/cuda/cuda_gpu_executor.cc:981] successful NUMA node read from SysFS had negative value (-1), but there must be at least one NUMA node, so returning NUMA node zero\n",
      "2023-02-19 10:53:35.084012: I tensorflow/compiler/xla/stream_executor/cuda/cuda_gpu_executor.cc:981] successful NUMA node read from SysFS had negative value (-1), but there must be at least one NUMA node, so returning NUMA node zero\n",
      "2023-02-19 10:53:35.084362: I tensorflow/core/platform/cpu_feature_guard.cc:193] This TensorFlow binary is optimized with oneAPI Deep Neural Network Library (oneDNN) to use the following CPU instructions in performance-critical operations:  AVX2 FMA\n",
      "To enable them in other operations, rebuild TensorFlow with the appropriate compiler flags.\n",
      "2023-02-19 10:53:35.084990: I tensorflow/compiler/xla/stream_executor/cuda/cuda_gpu_executor.cc:981] successful NUMA node read from SysFS had negative value (-1), but there must be at least one NUMA node, so returning NUMA node zero\n",
      "2023-02-19 10:53:35.085089: I tensorflow/compiler/xla/stream_executor/cuda/cuda_gpu_executor.cc:981] successful NUMA node read from SysFS had negative value (-1), but there must be at least one NUMA node, so returning NUMA node zero\n",
      "2023-02-19 10:53:35.085167: I tensorflow/compiler/xla/stream_executor/cuda/cuda_gpu_executor.cc:981] successful NUMA node read from SysFS had negative value (-1), but there must be at least one NUMA node, so returning NUMA node zero\n",
      "2023-02-19 10:53:35.518890: I tensorflow/compiler/xla/stream_executor/cuda/cuda_gpu_executor.cc:981] successful NUMA node read from SysFS had negative value (-1), but there must be at least one NUMA node, so returning NUMA node zero\n",
      "2023-02-19 10:53:35.519019: I tensorflow/compiler/xla/stream_executor/cuda/cuda_gpu_executor.cc:981] successful NUMA node read from SysFS had negative value (-1), but there must be at least one NUMA node, so returning NUMA node zero\n",
      "2023-02-19 10:53:35.519102: I tensorflow/compiler/xla/stream_executor/cuda/cuda_gpu_executor.cc:981] successful NUMA node read from SysFS had negative value (-1), but there must be at least one NUMA node, so returning NUMA node zero\n",
      "2023-02-19 10:53:35.519171: I tensorflow/core/common_runtime/gpu/gpu_device.cc:1613] Created device /job:localhost/replica:0/task:0/device:GPU:0 with 21939 MB memory:  -> device: 0, name: NVIDIA GeForce RTX 3090, pci bus id: 0000:02:00.0, compute capability: 8.6\n"
     ]
    }
   ],
   "source": [
    "output_signature = (tf.TensorSpec(shape = (None, 34), dtype = tf.float32),\n",
    "                    tf.TensorSpec(shape = 4, dtype = tf.int16))\n",
    "ds=tf.data.Dataset.from_generator(PoseGenerator_CD(pose_path=pose_path,training=False),output_signature=output_signature)"
   ]
  },
  {
   "cell_type": "code",
   "execution_count": 25,
   "metadata": {},
   "outputs": [],
   "source": [
    "ds1=ds.batch(2)"
   ]
  },
  {
   "cell_type": "code",
   "execution_count": 26,
   "metadata": {},
   "outputs": [
    {
     "name": "stdout",
     "output_type": "stream",
     "text": [
      "(array([[[-3.57761138e-07, -9.24050748e-01,  1.17647246e-01, ...,\n",
      "          9.74683404e-01,  5.88234439e-02,  1.00000000e+00],\n",
      "        [ 0.00000000e+00, -9.49367166e-01,  1.17647231e-01, ...,\n",
      "          9.49367344e-01,  0.00000000e+00,  1.00000000e+00],\n",
      "        [ 3.03030983e-02, -9.49366987e-01,  1.51515484e-01, ...,\n",
      "          9.49366987e-01,  3.03030983e-02,  1.00000000e+00],\n",
      "        ...,\n",
      "        [-9.67743695e-02, -9.24050629e-01,  9.67743695e-02, ...,\n",
      "          9.49367106e-01,  1.61290094e-01,  1.00000000e+00],\n",
      "        [-6.66662902e-02, -9.23077047e-01,  6.66671023e-02, ...,\n",
      "          9.74359095e-01,  1.33333385e-01,  1.00000000e+00],\n",
      "        [-6.66668266e-02, -9.23076868e-01,  6.66668266e-02, ...,\n",
      "          9.74358916e-01,  1.33332849e-01,  1.00000000e+00]],\n",
      "\n",
      "       [[ 7.31707960e-02, -8.46994579e-01,  2.68292934e-01, ...,\n",
      "          1.00000000e+00, -3.41463715e-01,  1.00000000e+00],\n",
      "        [-2.32560933e-02, -8.68852437e-01,  1.62790075e-01, ...,\n",
      "          4.64481026e-01, -5.11628032e-01,  1.00000000e+00],\n",
      "        [-3.04348230e-01, -9.13513601e-01, -1.30434513e-01, ...,\n",
      "          1.00000000e+00, -5.86957037e-01,  1.00000000e+00],\n",
      "        ...,\n",
      "        [-2.17391342e-01, -9.14438367e-01, -8.69563073e-02, ...,\n",
      "          1.00000000e+00, -5.86956501e-01,  1.00000000e+00],\n",
      "        [-2.17390761e-01, -9.14438486e-01, -4.34776917e-02, ...,\n",
      "          1.00000000e+00, -5.86956322e-01,  1.00000000e+00],\n",
      "        [-2.17391506e-01, -8.93048167e-01, -4.34787683e-02, ...,\n",
      "          1.00000000e+00, -5.86956739e-01,  1.00000000e+00]]],\n",
      "      dtype=float32), array([[1, 0, 0, 0],\n",
      "       [1, 0, 0, 0]], dtype=int16))\n"
     ]
    },
    {
     "ename": "",
     "evalue": "",
     "output_type": "error",
     "traceback": [
      "\u001b[1;31mThe Kernel crashed while executing code in the the current cell or a previous cell. Please review the code in the cell(s) to identify a possible cause of the failure. Click <a href='https://aka.ms/vscodeJupyterKernelCrash'>here</a> for more info. View Jupyter <a href='command:jupyter.viewOutput'>log</a> for further details."
     ]
    }
   ],
   "source": [
    "for data in ds1.as_numpy_iterator():\n",
    "    print(data)\n",
    "    break"
   ]
  },
  {
   "cell_type": "code",
   "execution_count": null,
   "metadata": {},
   "outputs": [],
   "source": [
    "data"
   ]
  },
  {
   "cell_type": "code",
   "execution_count": null,
   "metadata": {},
   "outputs": [],
   "source": []
  }
 ],
 "metadata": {
  "kernelspec": {
   "display_name": "vision",
   "language": "python",
   "name": "python3"
  },
  "language_info": {
   "codemirror_mode": {
    "name": "ipython",
    "version": 3
   },
   "file_extension": ".py",
   "mimetype": "text/x-python",
   "name": "python",
   "nbconvert_exporter": "python",
   "pygments_lexer": "ipython3",
   "version": "3.10.6"
  },
  "orig_nbformat": 4,
  "vscode": {
   "interpreter": {
    "hash": "85db18ce2fe3f95ddef0eb50df32b5323cfb3f595459ab1005c6551e46d04245"
   }
  }
 },
 "nbformat": 4,
 "nbformat_minor": 2
}
