{
 "cells": [
  {
   "cell_type": "code",
   "execution_count": 1,
   "metadata": {},
   "outputs": [
    {
     "name": "stderr",
     "output_type": "stream",
     "text": [
      "2022-12-31 03:50:18.778221: I tensorflow/core/platform/cpu_feature_guard.cc:193] This TensorFlow binary is optimized with oneAPI Deep Neural Network Library (oneDNN) to use the following CPU instructions in performance-critical operations:  AVX2 FMA\n",
      "To enable them in other operations, rebuild TensorFlow with the appropriate compiler flags.\n",
      "2022-12-31 03:50:19.344345: W tensorflow/compiler/xla/stream_executor/platform/default/dso_loader.cc:64] Could not load dynamic library 'libnvinfer.so.7'; dlerror: libnvinfer.so.7: cannot open shared object file: No such file or directory; LD_LIBRARY_PATH: /opt/ros/foxy/opt/yaml_cpp_vendor/lib:/opt/ros/foxy/opt/rviz_ogre_vendor/lib:/opt/ros/foxy/lib/x86_64-linux-gnu:/opt/ros/foxy/lib:/usr/local/cuda-11.7/lib64${LD_LIBRARY_PATH:+:}\n",
      "2022-12-31 03:50:19.344527: W tensorflow/compiler/xla/stream_executor/platform/default/dso_loader.cc:64] Could not load dynamic library 'libnvinfer_plugin.so.7'; dlerror: libnvinfer_plugin.so.7: cannot open shared object file: No such file or directory; LD_LIBRARY_PATH: /opt/ros/foxy/opt/yaml_cpp_vendor/lib:/opt/ros/foxy/opt/rviz_ogre_vendor/lib:/opt/ros/foxy/lib/x86_64-linux-gnu:/opt/ros/foxy/lib:/usr/local/cuda-11.7/lib64${LD_LIBRARY_PATH:+:}\n",
      "2022-12-31 03:50:19.344533: W tensorflow/compiler/tf2tensorrt/utils/py_utils.cc:38] TF-TRT Warning: Cannot dlopen some TensorRT libraries. If you would like to use Nvidia GPU with TensorRT, please make sure the missing libraries mentioned above are installed properly.\n"
     ]
    }
   ],
   "source": [
    "import tensorflow as tf \n",
    "from tensorflow.keras.layers import *\n"
   ]
  },
  {
   "cell_type": "code",
   "execution_count": 88,
   "metadata": {},
   "outputs": [],
   "source": [
    "input=tf.keras.Input(shape=(64,288,288,3))\n",
    "x=Conv3D(filters=64,kernel_size=(4,8,8),strides=(4,8,8),activation='relu')(input)\n",
    "\n",
    "x=Conv3D(filters=256,kernel_size=(2,4,4),strides=(2,4,4),activation='relu')(x)\n",
    "x=Conv3D(filters=256,kernel_size=(2,2,2),activation='relu')(x)\n",
    "x=MaxPool3D()(x)\n",
    "# x=Conv3D(filters=256,kernel_size=(4,4,4),strides=(1,1,1),activation='relu')(x)\n",
    "# x=MaxPool3D()(x)\n",
    "\n",
    "\n",
    "\n",
    "\n",
    "x=Reshape(target_shape=(-1,256))(x)\n",
    "model=tf.keras.Model(input,x)\n",
    "\n",
    "\n"
   ]
  },
  {
   "cell_type": "code",
   "execution_count": 89,
   "metadata": {},
   "outputs": [
    {
     "name": "stdout",
     "output_type": "stream",
     "text": [
      "Model: \"model_38\"\n",
      "_________________________________________________________________\n",
      " Layer (type)                Output Shape              Param #   \n",
      "=================================================================\n",
      " input_49 (InputLayer)       [(None, 64, 288, 288, 3)  0         \n",
      "                             ]                                   \n",
      "                                                                 \n",
      " conv3d_101 (Conv3D)         (None, 16, 36, 36, 64)    49216     \n",
      "                                                                 \n",
      " conv3d_102 (Conv3D)         (None, 8, 9, 9, 256)      524544    \n",
      "                                                                 \n",
      " conv3d_103 (Conv3D)         (None, 7, 8, 8, 256)      524544    \n",
      "                                                                 \n",
      " max_pooling3d_9 (MaxPooling  (None, 3, 4, 4, 256)     0         \n",
      " 3D)                                                             \n",
      "                                                                 \n",
      " reshape_38 (Reshape)        (None, 48, 256)           0         \n",
      "                                                                 \n",
      "=================================================================\n",
      "Total params: 1,098,304\n",
      "Trainable params: 1,098,304\n",
      "Non-trainable params: 0\n",
      "_________________________________________________________________\n"
     ]
    }
   ],
   "source": [
    "model.summary()"
   ]
  },
  {
   "cell_type": "code",
   "execution_count": 17,
   "metadata": {},
   "outputs": [
    {
     "data": {
      "text/plain": [
       "36.0"
      ]
     },
     "execution_count": 17,
     "metadata": {},
     "output_type": "execute_result"
    }
   ],
   "source": [
    "288/8\n"
   ]
  },
  {
   "cell_type": "code",
   "execution_count": 102,
   "metadata": {},
   "outputs": [],
   "source": [
    "class TubeletEmbedding(tf.keras.layers.Layer):\n",
    "\n",
    "    def __init__(self,d_modal,dropout=0.5,**kwargs):\n",
    "        super(TubeletEmbedding,self).__init__(**kwargs)\n",
    "        self.d_modal=d_modal\n",
    "        self.conv1=Conv3D(filters=self.d_modal/4,kernel_size=(4,8,8),strides=(4,8,8),activation='relu')\n",
    "        self.conv2=Conv3D(filters=self.d_modal,kernel_size=(2,4,4),strides=(2,4,4),activation='relu')\n",
    "        self.conv3=Conv3D(filters=self.d_modal,kernel_size=(2,2,2),activation='relu')\n",
    "        self.maxpool3d=MaxPool3D()\n",
    "        self.reshape=tf.keras.layers.Reshape(target_shape=(-1,self.d_modal))\n",
    "        self.dropout=dropout\n",
    "\n",
    "    def call(self,videos):\n",
    "\n",
    "\n",
    "        x=self.conv1(videos)\n",
    "        x=self.conv2(x)\n",
    "        x=tf.keras.layers.Dropout(self.dropout)(x)\n",
    "        x=self.conv3(x)\n",
    "        x=tf.keras.layers.Dropout(self.dropout)(x)\n",
    "        x=self.maxpool3d(x)\n",
    "        x=self.reshape(x)\n",
    "        return x\n",
    "\n",
    "        "
   ]
  },
  {
   "cell_type": "code",
   "execution_count": 103,
   "metadata": {},
   "outputs": [],
   "source": [
    "sample_input=tf.random.normal(shape=(1,64,288,288,3))"
   ]
  },
  {
   "cell_type": "code",
   "execution_count": 107,
   "metadata": {},
   "outputs": [],
   "source": [
    "x=TubeletEmbedding(256,0.5)(sample_input)"
   ]
  },
  {
   "cell_type": "code",
   "execution_count": 108,
   "metadata": {},
   "outputs": [
    {
     "data": {
      "text/plain": [
       "<tf.Tensor: shape=(1, 48, 256), dtype=float32, numpy=\n",
       "array([[[0.15994602, 0.08972547, 0.05428707, ..., 0.27504224,\n",
       "         0.16010995, 0.37122452],\n",
       "        [0.13152602, 0.        , 0.08426345, ..., 0.1963974 ,\n",
       "         0.09561629, 0.172574  ],\n",
       "        [0.05773117, 0.04975312, 0.03860175, ..., 0.2699294 ,\n",
       "         0.1258084 , 0.1900611 ],\n",
       "        ...,\n",
       "        [0.18437806, 0.04404083, 0.06679596, ..., 0.2438691 ,\n",
       "         0.0907255 , 0.25153333],\n",
       "        [0.16808245, 0.02926301, 0.08175955, ..., 0.17571384,\n",
       "         0.18058157, 0.22221226],\n",
       "        [0.16402996, 0.06398805, 0.14502162, ..., 0.31113693,\n",
       "         0.11757857, 0.17629236]]], dtype=float32)>"
      ]
     },
     "execution_count": 108,
     "metadata": {},
     "output_type": "execute_result"
    },
    {
     "ename": "",
     "evalue": "",
     "output_type": "error",
     "traceback": [
      "\u001b[1;31mThe Kernel crashed while executing code in the the current cell or a previous cell. Please review the code in the cell(s) to identify a possible cause of the failure. Click <a href='https://aka.ms/vscodeJupyterKernelCrash'>here</a> for more info. View Jupyter <a href='command:jupyter.viewOutput'>log</a> for further details."
     ]
    }
   ],
   "source": [
    "x"
   ]
  },
  {
   "cell_type": "code",
   "execution_count": null,
   "metadata": {},
   "outputs": [],
   "source": [
    "\"\""
   ]
  }
 ],
 "metadata": {
  "kernelspec": {
   "display_name": "vision",
   "language": "python",
   "name": "python3"
  },
  "language_info": {
   "codemirror_mode": {
    "name": "ipython",
    "version": 3
   },
   "file_extension": ".py",
   "mimetype": "text/x-python",
   "name": "python",
   "nbconvert_exporter": "python",
   "pygments_lexer": "ipython3",
   "version": "3.10.6"
  },
  "orig_nbformat": 4,
  "vscode": {
   "interpreter": {
    "hash": "85db18ce2fe3f95ddef0eb50df32b5323cfb3f595459ab1005c6551e46d04245"
   }
  }
 },
 "nbformat": 4,
 "nbformat_minor": 2
}
